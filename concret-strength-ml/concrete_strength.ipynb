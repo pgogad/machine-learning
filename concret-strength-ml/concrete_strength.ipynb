{
 "cells": [
  {
   "cell_type": "markdown",
   "metadata": {
    "collapsed": true,
    "pycharm": {
     "name": "#%% md\n"
    }
   },
   "source": [
    "## Project - Concrete Strength Prediction"
   ]
  },
  {
   "cell_type": "code",
   "execution_count": 1,
   "metadata": {},
   "outputs": [
    {
     "name": "stdout",
     "output_type": "stream",
     "text": [
      "Requirement already satisfied: xlrd==1.2.0 in /usr/local/lib/python3.9/site-packages (1.2.0)\n",
      "Requirement already satisfied: openpyxl in /usr/local/lib/python3.9/site-packages (3.0.6)\n",
      "Requirement already satisfied: jdcal in /usr/local/lib/python3.9/site-packages (from openpyxl) (1.4.1)\n",
      "Requirement already satisfied: et-xmlfile in /usr/local/lib/python3.9/site-packages (from openpyxl) (1.0.1)\n"
     ]
    }
   ],
   "source": [
    "# DON'T DO THIS\n",
    "!pip3 install xlrd==1.2.0\n",
    "!pip3 install openpyxl"
   ]
  },
  {
   "cell_type": "markdown",
   "metadata": {},
   "source": [
    "### Importing necessary packages"
   ]
  },
  {
   "cell_type": "code",
   "execution_count": 2,
   "metadata": {
    "pycharm": {
     "name": "#%%\n"
    }
   },
   "outputs": [],
   "source": [
    "import pandas as pd\n",
    "import numpy as np\n",
    "import matplotlib.pyplot as plt\n",
    "import seaborn as sns\n",
    "from sklearn.model_selection import train_test_split\n",
    "from sklearn.experimental import enable_iterative_imputer\n",
    "from sklearn.impute import IterativeImputer\n",
    "from sklearn.linear_model import LinearRegression\n",
    "import statsmodels.api as sm\n",
    "from sklearn.preprocessing import PolynomialFeatures\n",
    "from sklearn.tree import DecisionTreeRegressor\n",
    "from sklearn.model_selection import cross_val_score\n",
    "from sklearn.model_selection import KFold\n",
    "from sklearn.metrics import r2_score\n",
    "from sklearn.model_selection import GridSearchCV\n",
    "from sklearn.ensemble import BaggingRegressor\n",
    "from sklearn.ensemble import GradientBoostingRegressor\n",
    "from sklearn.ensemble import RandomForestRegressor\n",
    "from sklearn.ensemble import AdaBoostRegressor\n",
    "import warnings\n",
    "warnings.filterwarnings('ignore')\n",
    "\n",
    "%matplotlib inline"
   ]
  },
  {
   "cell_type": "code",
   "execution_count": 2,
   "metadata": {},
   "outputs": [
    {
     "name": "stdout",
     "output_type": "stream",
     "text": [
      "Number of rows 1030 and number of columns 9\n"
     ]
    }
   ],
   "source": [
    "data = pd.read_csv('concrete.csv')\n",
    "print('Number of rows %d and number of columns %d' % data.shape)"
   ]
  },
  {
   "cell_type": "markdown",
   "metadata": {
    "pycharm": {
     "name": "#%% md\n"
    }
   },
   "source": [
    "### Univariate Analysis"
   ]
  },
  {
   "cell_type": "code",
   "execution_count": 3,
   "metadata": {},
   "outputs": [
    {
     "data": {
      "text/html": [
       "<div>\n",
       "<style scoped>\n",
       "    .dataframe tbody tr th:only-of-type {\n",
       "        vertical-align: middle;\n",
       "    }\n",
       "\n",
       "    .dataframe tbody tr th {\n",
       "        vertical-align: top;\n",
       "    }\n",
       "\n",
       "    .dataframe thead th {\n",
       "        text-align: right;\n",
       "    }\n",
       "</style>\n",
       "<table border=\"1\" class=\"dataframe\">\n",
       "  <thead>\n",
       "    <tr style=\"text-align: right;\">\n",
       "      <th></th>\n",
       "      <th>cement</th>\n",
       "      <th>slag</th>\n",
       "      <th>ash</th>\n",
       "      <th>water</th>\n",
       "      <th>superplastic</th>\n",
       "      <th>coarseagg</th>\n",
       "      <th>fineagg</th>\n",
       "      <th>age</th>\n",
       "      <th>strength</th>\n",
       "    </tr>\n",
       "  </thead>\n",
       "  <tbody>\n",
       "    <tr>\n",
       "      <th>0</th>\n",
       "      <td>141.3</td>\n",
       "      <td>212.0</td>\n",
       "      <td>0.0</td>\n",
       "      <td>203.5</td>\n",
       "      <td>0.0</td>\n",
       "      <td>971.8</td>\n",
       "      <td>748.5</td>\n",
       "      <td>28</td>\n",
       "      <td>29.89</td>\n",
       "    </tr>\n",
       "    <tr>\n",
       "      <th>1</th>\n",
       "      <td>168.9</td>\n",
       "      <td>42.2</td>\n",
       "      <td>124.3</td>\n",
       "      <td>158.3</td>\n",
       "      <td>10.8</td>\n",
       "      <td>1080.8</td>\n",
       "      <td>796.2</td>\n",
       "      <td>14</td>\n",
       "      <td>23.51</td>\n",
       "    </tr>\n",
       "    <tr>\n",
       "      <th>2</th>\n",
       "      <td>250.0</td>\n",
       "      <td>0.0</td>\n",
       "      <td>95.7</td>\n",
       "      <td>187.4</td>\n",
       "      <td>5.5</td>\n",
       "      <td>956.9</td>\n",
       "      <td>861.2</td>\n",
       "      <td>28</td>\n",
       "      <td>29.22</td>\n",
       "    </tr>\n",
       "    <tr>\n",
       "      <th>3</th>\n",
       "      <td>266.0</td>\n",
       "      <td>114.0</td>\n",
       "      <td>0.0</td>\n",
       "      <td>228.0</td>\n",
       "      <td>0.0</td>\n",
       "      <td>932.0</td>\n",
       "      <td>670.0</td>\n",
       "      <td>28</td>\n",
       "      <td>45.85</td>\n",
       "    </tr>\n",
       "    <tr>\n",
       "      <th>4</th>\n",
       "      <td>154.8</td>\n",
       "      <td>183.4</td>\n",
       "      <td>0.0</td>\n",
       "      <td>193.3</td>\n",
       "      <td>9.1</td>\n",
       "      <td>1047.4</td>\n",
       "      <td>696.7</td>\n",
       "      <td>28</td>\n",
       "      <td>18.29</td>\n",
       "    </tr>\n",
       "    <tr>\n",
       "      <th>5</th>\n",
       "      <td>255.0</td>\n",
       "      <td>0.0</td>\n",
       "      <td>0.0</td>\n",
       "      <td>192.0</td>\n",
       "      <td>0.0</td>\n",
       "      <td>889.8</td>\n",
       "      <td>945.0</td>\n",
       "      <td>90</td>\n",
       "      <td>21.86</td>\n",
       "    </tr>\n",
       "    <tr>\n",
       "      <th>6</th>\n",
       "      <td>166.8</td>\n",
       "      <td>250.2</td>\n",
       "      <td>0.0</td>\n",
       "      <td>203.5</td>\n",
       "      <td>0.0</td>\n",
       "      <td>975.6</td>\n",
       "      <td>692.6</td>\n",
       "      <td>7</td>\n",
       "      <td>15.75</td>\n",
       "    </tr>\n",
       "    <tr>\n",
       "      <th>7</th>\n",
       "      <td>251.4</td>\n",
       "      <td>0.0</td>\n",
       "      <td>118.3</td>\n",
       "      <td>188.5</td>\n",
       "      <td>6.4</td>\n",
       "      <td>1028.4</td>\n",
       "      <td>757.7</td>\n",
       "      <td>56</td>\n",
       "      <td>36.64</td>\n",
       "    </tr>\n",
       "    <tr>\n",
       "      <th>8</th>\n",
       "      <td>296.0</td>\n",
       "      <td>0.0</td>\n",
       "      <td>0.0</td>\n",
       "      <td>192.0</td>\n",
       "      <td>0.0</td>\n",
       "      <td>1085.0</td>\n",
       "      <td>765.0</td>\n",
       "      <td>28</td>\n",
       "      <td>21.65</td>\n",
       "    </tr>\n",
       "    <tr>\n",
       "      <th>9</th>\n",
       "      <td>155.0</td>\n",
       "      <td>184.0</td>\n",
       "      <td>143.0</td>\n",
       "      <td>194.0</td>\n",
       "      <td>9.0</td>\n",
       "      <td>880.0</td>\n",
       "      <td>699.0</td>\n",
       "      <td>28</td>\n",
       "      <td>28.99</td>\n",
       "    </tr>\n",
       "  </tbody>\n",
       "</table>\n",
       "</div>"
      ],
      "text/plain": [
       "   cement   slag    ash  water  superplastic  coarseagg  fineagg  age  \\\n",
       "0   141.3  212.0    0.0  203.5           0.0      971.8    748.5   28   \n",
       "1   168.9   42.2  124.3  158.3          10.8     1080.8    796.2   14   \n",
       "2   250.0    0.0   95.7  187.4           5.5      956.9    861.2   28   \n",
       "3   266.0  114.0    0.0  228.0           0.0      932.0    670.0   28   \n",
       "4   154.8  183.4    0.0  193.3           9.1     1047.4    696.7   28   \n",
       "5   255.0    0.0    0.0  192.0           0.0      889.8    945.0   90   \n",
       "6   166.8  250.2    0.0  203.5           0.0      975.6    692.6    7   \n",
       "7   251.4    0.0  118.3  188.5           6.4     1028.4    757.7   56   \n",
       "8   296.0    0.0    0.0  192.0           0.0     1085.0    765.0   28   \n",
       "9   155.0  184.0  143.0  194.0           9.0      880.0    699.0   28   \n",
       "\n",
       "   strength  \n",
       "0     29.89  \n",
       "1     23.51  \n",
       "2     29.22  \n",
       "3     45.85  \n",
       "4     18.29  \n",
       "5     21.86  \n",
       "6     15.75  \n",
       "7     36.64  \n",
       "8     21.65  \n",
       "9     28.99  "
      ]
     },
     "execution_count": 3,
     "metadata": {},
     "output_type": "execute_result"
    }
   ],
   "source": [
    "data.head(10)"
   ]
  },
  {
   "cell_type": "code",
   "execution_count": 4,
   "metadata": {},
   "outputs": [
    {
     "name": "stdout",
     "output_type": "stream",
     "text": [
      "<class 'pandas.core.frame.DataFrame'>\n",
      "RangeIndex: 1030 entries, 0 to 1029\n",
      "Data columns (total 9 columns):\n",
      " #   Column        Non-Null Count  Dtype  \n",
      "---  ------        --------------  -----  \n",
      " 0   cement        1030 non-null   float64\n",
      " 1   slag          1030 non-null   float64\n",
      " 2   ash           1030 non-null   float64\n",
      " 3   water         1030 non-null   float64\n",
      " 4   superplastic  1030 non-null   float64\n",
      " 5   coarseagg     1030 non-null   float64\n",
      " 6   fineagg       1030 non-null   float64\n",
      " 7   age           1030 non-null   int64  \n",
      " 8   strength      1030 non-null   float64\n",
      "dtypes: float64(8), int64(1)\n",
      "memory usage: 72.5 KB\n",
      "None\n"
     ]
    }
   ],
   "source": [
    "print(data.info())"
   ]
  },
  {
   "cell_type": "code",
   "execution_count": 5,
   "metadata": {},
   "outputs": [
    {
     "name": "stdout",
     "output_type": "stream",
     "text": [
      "               count        mean         std     min      25%      50%  \\\n",
      "cement        1030.0  281.167864  104.506364  102.00  192.375  272.900   \n",
      "slag          1030.0   73.895825   86.279342    0.00    0.000   22.000   \n",
      "ash           1030.0   54.188350   63.997004    0.00    0.000    0.000   \n",
      "water         1030.0  181.567282   21.354219  121.80  164.900  185.000   \n",
      "superplastic  1030.0    6.204660    5.973841    0.00    0.000    6.400   \n",
      "coarseagg     1030.0  972.918932   77.753954  801.00  932.000  968.000   \n",
      "fineagg       1030.0  773.580485   80.175980  594.00  730.950  779.500   \n",
      "age           1030.0   45.662136   63.169912    1.00    7.000   28.000   \n",
      "strength      1030.0   35.817961   16.705742    2.33   23.710   34.445   \n",
      "\n",
      "                   75%     max  \n",
      "cement         350.000   540.0  \n",
      "slag           142.950   359.4  \n",
      "ash            118.300   200.1  \n",
      "water          192.000   247.0  \n",
      "superplastic    10.200    32.2  \n",
      "coarseagg     1029.400  1145.0  \n",
      "fineagg        824.000   992.6  \n",
      "age             56.000   365.0  \n",
      "strength        46.135    82.6  \n"
     ]
    }
   ],
   "source": [
    "print(data.describe().transpose())"
   ]
  },
  {
   "cell_type": "markdown",
   "metadata": {},
   "source": [
    "### Duplicate Analysis"
   ]
  },
  {
   "cell_type": "code",
   "execution_count": 6,
   "metadata": {},
   "outputs": [
    {
     "name": "stdout",
     "output_type": "stream",
     "text": [
      "Number of duplicate records found 25\n"
     ]
    }
   ],
   "source": [
    "duplicate = data[data.duplicated()]\n",
    "print(\"Number of duplicate records found %d\" % duplicate.shape[0])"
   ]
  },
  {
   "cell_type": "code",
   "execution_count": 7,
   "metadata": {},
   "outputs": [],
   "source": [
    "data = data.drop_duplicates()"
   ]
  },
  {
   "cell_type": "markdown",
   "metadata": {},
   "source": [
    "### Number of unique in each column"
   ]
  },
  {
   "cell_type": "code",
   "execution_count": 8,
   "metadata": {},
   "outputs": [
    {
     "name": "stdout",
     "output_type": "stream",
     "text": [
      "cement          278\n",
      "slag            185\n",
      "ash             156\n",
      "water           195\n",
      "superplastic    111\n",
      "coarseagg       284\n",
      "fineagg         302\n",
      "age              14\n",
      "strength        845\n",
      "dtype: int64\n"
     ]
    }
   ],
   "source": [
    "print(data.nunique())"
   ]
  },
  {
   "cell_type": "markdown",
   "metadata": {},
   "source": [
    "### Number of nulls in each column"
   ]
  },
  {
   "cell_type": "code",
   "execution_count": 9,
   "metadata": {},
   "outputs": [
    {
     "name": "stdout",
     "output_type": "stream",
     "text": [
      "cement          0\n",
      "slag            0\n",
      "ash             0\n",
      "water           0\n",
      "superplastic    0\n",
      "coarseagg       0\n",
      "fineagg         0\n",
      "age             0\n",
      "strength        0\n",
      "dtype: int64\n"
     ]
    }
   ],
   "source": [
    "print(data.isnull().sum())"
   ]
  },
  {
   "cell_type": "markdown",
   "metadata": {
    "pycharm": {
     "name": "#%% md\n"
    }
   },
   "source": [
    "### EDA"
   ]
  },
  {
   "cell_type": "code",
   "execution_count": 10,
   "metadata": {
    "pycharm": {
     "name": "#%%\n"
    }
   },
   "outputs": [
    {
     "data": {
      "image/png": "[encoded data removed]",
      "text/plain": [
       "<Figure size 432x288 with 1 Axes>"
      ]
     },
     "metadata": {
      "needs_background": "light"
     },
     "output_type": "display_data"
    },
    {
     "data": {
      "image/png": "[encoded data removed]",
      "text/plain": [
       "<Figure size 432x288 with 1 Axes>"
      ]
     },
     "metadata": {
      "needs_background": "light"
     },
     "output_type": "display_data"
    },
    {
     "data": {
      "image/png": "[encoded data removed]",
      "text/plain": [
       "<Figure size 432x288 with 1 Axes>"
      ]
     },
     "metadata": {
      "needs_background": "light"
     },
     "output_type": "display_data"
    },
    {
     "data": {
      "image/png": "[encoded data removed]",
      "text/plain": [
       "<Figure size 432x288 with 1 Axes>"
      ]
     },
     "metadata": {
      "needs_background": "light"
     },
     "output_type": "display_data"
    },
    {
     "data": {
      "image/png": "[encoded data removed]",
      "text/plain": [
       "<Figure size 432x288 with 1 Axes>"
      ]
     },
     "metadata": {
      "needs_background": "light"
     },
     "output_type": "display_data"
    },
    {
     "data": {
      "image/png": "[encoded data removed]",
      "text/plain": [
       "<Figure size 432x288 with 1 Axes>"
      ]
     },
     "metadata": {
      "needs_background": "light"
     },
     "output_type": "display_data"
    },
    {
     "data": {
      "image/png": "[encoded data removed]",
      "text/plain": [
       "<Figure size 432x288 with 1 Axes>"
      ]
     },
     "metadata": {
      "needs_background": "light"
     },
     "output_type": "display_data"
    },
    {
     "data": {
      "image/png": "[encoded data removed]",
      "text/plain": [
       "<Figure size 432x288 with 1 Axes>"
      ]
     },
     "metadata": {
      "needs_background": "light"
     },
     "output_type": "display_data"
    },
    {
     "data": {
      "image/png": "[encoded data removed]",
      "text/plain": [
       "<Figure size 432x288 with 1 Axes>"
      ]
     },
     "metadata": {
      "needs_background": "light"
     },
     "output_type": "display_data"
    }
   ],
   "source": [
    "for i in data.columns:\n",
    "    sns.distplot(data[i])\n",
    "    plt.show()"
   ]
  },
  {
   "cell_type": "markdown",
   "metadata": {},
   "source": [
    "### Outlier analysis"
   ]
  },
  {
   "cell_type": "code",
   "execution_count": 11,
   "metadata": {
    "scrolled": true
   },
   "outputs": [
    {
     "data": {
      "image/png": "[encoded data removed]",
      "text/plain": [
       "<Figure size 1152x576 with 1 Axes>"
      ]
     },
     "metadata": {
      "needs_background": "light"
     },
     "output_type": "display_data"
    }
   ],
   "source": [
    "plt.subplots(figsize=(16,8))\n",
    "boxplot = data.boxplot(column=['cement', 'slag', 'ash', 'superplastic', 'coarseagg', 'fineagg'])"
   ]
  },
  {
   "cell_type": "code",
   "execution_count": 12,
   "metadata": {
    "scrolled": true
   },
   "outputs": [
    {
     "data": {
      "text/html": [
       "<div>\n",
       "<style scoped>\n",
       "    .dataframe tbody tr th:only-of-type {\n",
       "        vertical-align: middle;\n",
       "    }\n",
       "\n",
       "    .dataframe tbody tr th {\n",
       "        vertical-align: top;\n",
       "    }\n",
       "\n",
       "    .dataframe thead th {\n",
       "        text-align: right;\n",
       "    }\n",
       "</style>\n",
       "<table border=\"1\" class=\"dataframe\">\n",
       "  <thead>\n",
       "    <tr style=\"text-align: right;\">\n",
       "      <th></th>\n",
       "      <th>No. of Outliers</th>\n",
       "      <th>Outliers</th>\n",
       "    </tr>\n",
       "  </thead>\n",
       "  <tbody>\n",
       "    <tr>\n",
       "      <th>cement</th>\n",
       "      <td>0</td>\n",
       "      <td>0.00</td>\n",
       "    </tr>\n",
       "    <tr>\n",
       "      <th>slag</th>\n",
       "      <td>2</td>\n",
       "      <td>0.20</td>\n",
       "    </tr>\n",
       "    <tr>\n",
       "      <th>ash</th>\n",
       "      <td>0</td>\n",
       "      <td>0.00</td>\n",
       "    </tr>\n",
       "    <tr>\n",
       "      <th>water</th>\n",
       "      <td>15</td>\n",
       "      <td>1.49</td>\n",
       "    </tr>\n",
       "    <tr>\n",
       "      <th>superplastic</th>\n",
       "      <td>10</td>\n",
       "      <td>1.00</td>\n",
       "    </tr>\n",
       "    <tr>\n",
       "      <th>coarseagg</th>\n",
       "      <td>0</td>\n",
       "      <td>0.00</td>\n",
       "    </tr>\n",
       "    <tr>\n",
       "      <th>fineagg</th>\n",
       "      <td>5</td>\n",
       "      <td>0.50</td>\n",
       "    </tr>\n",
       "    <tr>\n",
       "      <th>age</th>\n",
       "      <td>59</td>\n",
       "      <td>5.87</td>\n",
       "    </tr>\n",
       "    <tr>\n",
       "      <th>strength</th>\n",
       "      <td>8</td>\n",
       "      <td>0.80</td>\n",
       "    </tr>\n",
       "  </tbody>\n",
       "</table>\n",
       "</div>"
      ],
      "text/plain": [
       "              No. of Outliers  Outliers\n",
       "cement                      0      0.00\n",
       "slag                        2      0.20\n",
       "ash                         0      0.00\n",
       "water                      15      1.49\n",
       "superplastic               10      1.00\n",
       "coarseagg                   0      0.00\n",
       "fineagg                     5      0.50\n",
       "age                        59      5.87\n",
       "strength                    8      0.80"
      ]
     },
     "execution_count": 12,
     "metadata": {},
     "output_type": "execute_result"
    }
   ],
   "source": [
    "Q1=data.quantile(0.25)\n",
    "Q3=data.quantile(0.75)\n",
    "IQR=Q3-Q1\n",
    "cwo=((data.iloc[:] <(Q1-1.5*IQR))|(data.iloc[:]>(Q3+1.5*IQR))).sum(axis=0)\n",
    "opdf=pd.DataFrame(cwo,index=data.columns,columns=['No. of Outliers'])\n",
    "opdf['Outliers']=round(opdf['No. of Outliers']*100/len(data),2)\n",
    "opdf.head(20)"
   ]
  },
  {
   "cell_type": "markdown",
   "metadata": {
    "pycharm": {
     "name": "#%% md\n"
    }
   },
   "source": [
    "### Using MICE to handle outliers in the dataset"
   ]
  },
  {
   "cell_type": "code",
   "execution_count": 13,
   "metadata": {},
   "outputs": [],
   "source": [
    "imp = IterativeImputer()\n",
    "imp.fit(data)\n",
    "data=pd.DataFrame(imp.transform(data),columns=data.columns)\n"
   ]
  },
  {
   "cell_type": "markdown",
   "metadata": {
    "pycharm": {
     "name": "#%% md\n"
    }
   },
   "source": [
    "### Bivariate Analysis"
   ]
  },
  {
   "cell_type": "code",
   "execution_count": 14,
   "metadata": {},
   "outputs": [
    {
     "data": {
      "image/png": "[encoded data removed]",
      "text/plain": [
       "<Figure size 1080x576 with 1 Axes>"
      ]
     },
     "metadata": {
      "needs_background": "light"
     },
     "output_type": "display_data"
    }
   ],
   "source": [
    "corr = abs(data.corr())\n",
    "lower_triangle = np.tril(corr, k = -1)\n",
    "mask = lower_triangle == 0\n",
    "\n",
    "plt.figure(figsize = (15,8))\n",
    "sns.set_style(style = 'white')  \n",
    "sns.heatmap(lower_triangle, center=0.5, cmap= 'Blues', annot= True,\n",
    "            xticklabels = corr.index, yticklabels = corr.columns, cbar= False, linewidths= 1, mask = mask)\n",
    "plt.xticks(rotation = 50)   \n",
    "plt.yticks(rotation = 20)\n",
    "plt.show()\n"
   ]
  },
  {
   "cell_type": "code",
   "execution_count": 15,
   "metadata": {
    "pycharm": {
     "name": "#%%\n"
    }
   },
   "outputs": [],
   "source": [
    "X = data.iloc[:,:8]\n",
    "Y = data.iloc[:,8]"
   ]
  },
  {
   "cell_type": "code",
   "execution_count": 16,
   "metadata": {},
   "outputs": [],
   "source": [
    "# ls=sm.OLS(Y,sm.add_constant(X))\n",
    "# results=ls.fit()\n",
    "# results.summary()"
   ]
  },
  {
   "cell_type": "code",
   "execution_count": 17,
   "metadata": {},
   "outputs": [],
   "source": [
    "# ls=sm.OLS(Y,X)\n",
    "# results=ls.fit()\n",
    "# results.summary()"
   ]
  },
  {
   "cell_type": "code",
   "execution_count": 18,
   "metadata": {},
   "outputs": [],
   "source": [
    "X_train, X_test, y_train, y_test = train_test_split(X, Y, test_size=0.3, random_state=150)"
   ]
  },
  {
   "cell_type": "code",
   "execution_count": 19,
   "metadata": {},
   "outputs": [
    {
     "name": "stdout",
     "output_type": "stream",
     "text": [
      "69.95% data is in training set\n",
      "30.05% data is in test set\n"
     ]
    }
   ],
   "source": [
    "print(\"{0:0.2f}% data is in training set\".format((len(X_train)/len(data.index)) * 100))\n",
    "print(\"{0:0.2f}% data is in test set\".format((len(X_test)/len(data.index)) * 100))"
   ]
  },
  {
   "cell_type": "markdown",
   "metadata": {},
   "source": [
    "### Linear regression model"
   ]
  },
  {
   "cell_type": "code",
   "execution_count": 20,
   "metadata": {},
   "outputs": [
    {
     "name": "stdout",
     "output_type": "stream",
     "text": [
      "Model score is 0.63\n",
      "Train R2 score: 0.63\n",
      "Test R2 score:  0.53\n"
     ]
    }
   ],
   "source": [
    "regression_model = LinearRegression()\n",
    "regression_model.fit(X_train, y_train)\n",
    "\n",
    "y_pred_lrtr=regression_model.predict(X_train)\n",
    "y_pred_lrte=regression_model.predict(X_test)\n",
    "\n",
    "\n",
    "print('Model score is %.2f' % regression_model.score(X_train, y_train))\n",
    "print('Train R2 score: %.2f' % r2_score(y_train,y_pred_lrtr))\n",
    "print('Test R2 score:  %.2f' % r2_score(y_test,y_pred_lrte))"
   ]
  },
  {
   "cell_type": "markdown",
   "metadata": {},
   "source": [
    "### Polynomial Feature analysis"
   ]
  },
  {
   "cell_type": "code",
   "execution_count": 21,
   "metadata": {},
   "outputs": [
    {
     "name": "stdout",
     "output_type": "stream",
     "text": [
      "Training R2 - degree 2 polynomial: 0.81\n",
      "Testing R2 - degree 2 polynomial: 0.76\n"
     ]
    }
   ],
   "source": [
    "pf = PolynomialFeatures(degree = 2)\n",
    "X_polytr = pf.fit_transform(X_train)\n",
    "regression_model.fit(X_polytr,y_train)\n",
    "y_pred_lr2tr = regression_model.predict(X_polytr)\n",
    "print(\"Training R2 - degree 2 polynomial: %.2f\" % r2_score(y_train, y_pred_lr2tr ))\n",
    "\n",
    "X_polyte = pf.fit_transform(X_test)\n",
    "y_pred_lr2te = regression_model.predict(X_polyte)\n",
    "print(\"Testing R2 - degree 2 polynomial: %.2f\" % r2_score(y_test, y_pred_lr2te ))"
   ]
  },
  {
   "cell_type": "code",
   "execution_count": 22,
   "metadata": {},
   "outputs": [
    {
     "name": "stdout",
     "output_type": "stream",
     "text": [
      "Training R2 - degree 3 polynomial: 0.93\n",
      "Testing R2 - degree 3 polynomial: 0.75\n"
     ]
    }
   ],
   "source": [
    "pf = PolynomialFeatures(degree = 3)\n",
    "X_polytr = pf.fit_transform(X_train)\n",
    "regression_model.fit(X_polytr,y_train)\n",
    "y_pred_lr2tr = regression_model.predict(X_polytr)\n",
    "print(\"Training R2 - degree 3 polynomial: %.2f\" % r2_score(y_train, y_pred_lr2tr ))\n",
    "\n",
    "X_polyte = pf.fit_transform(X_test)\n",
    "y_pred_lr2te = regression_model.predict(X_polyte)\n",
    "print(\"Testing R2 - degree 3 polynomial: %.2f\" % r2_score(y_test, y_pred_lr2te ))"
   ]
  },
  {
   "cell_type": "code",
   "execution_count": 23,
   "metadata": {},
   "outputs": [
    {
     "name": "stdout",
     "output_type": "stream",
     "text": [
      "Training R2 - degree 4 polynomial: 0.98\n",
      "Testing R2 - degree 4 polynomial: -639.52\n"
     ]
    }
   ],
   "source": [
    "pf = PolynomialFeatures(degree = 4)\n",
    "X_polytr = pf.fit_transform(X_train)\n",
    "regression_model.fit(X_polytr,y_train)\n",
    "y_pred_lr2tr = regression_model.predict(X_polytr)\n",
    "print(\"Training R2 - degree 4 polynomial: %.2f\" % r2_score(y_train, y_pred_lr2tr ))\n",
    "\n",
    "X_polyte = pf.fit_transform(X_test)\n",
    "y_pred_lr2te = regression_model.predict(X_polyte)\n",
    "print(\"Testing R2 - degree 4 polynomial: %.2f\" % r2_score(y_test, y_pred_lr2te ))"
   ]
  },
  {
   "cell_type": "markdown",
   "metadata": {},
   "source": [
    "- Model performance degrades beyond this point. This shows that model is non-linear.\n"
   ]
  },
  {
   "cell_type": "markdown",
   "metadata": {},
   "source": [
    "### Decision Trees"
   ]
  },
  {
   "cell_type": "code",
   "execution_count": 24,
   "metadata": {},
   "outputs": [],
   "source": [
    "model_performance = {'Model': [],'Accuracy': [],'Standard_Div': []}"
   ]
  },
  {
   "cell_type": "code",
   "execution_count": 25,
   "metadata": {},
   "outputs": [
    {
     "name": "stdout",
     "output_type": "stream",
     "text": [
      "Train R2 score: 1.00\n",
      "Test R2 score: 0.82\n"
     ]
    }
   ],
   "source": [
    "dt=DecisionTreeRegressor()\n",
    "dt.fit(X_train, y_train)\n",
    "\n",
    "y_pred_dttr=dt.predict(X_train)\n",
    "y_pred_dtte=dt.predict(X_test)\n",
    "\n",
    "print('Train R2 score: %.2f' % r2_score(y_train,y_pred_dttr))\n",
    "print('Test R2 score: %.2f'% r2_score(y_test,y_pred_dtte))"
   ]
  },
  {
   "cell_type": "markdown",
   "metadata": {
    "pycharm": {
     "name": "#%% md\n"
    }
   },
   "source": [
    " - Model is over-fitting the data."
   ]
  },
  {
   "cell_type": "code",
   "execution_count": 26,
   "metadata": {},
   "outputs": [
    {
     "name": "stdout",
     "output_type": "stream",
     "text": [
      "Accuracy: 84.85% (4.10%)\n"
     ]
    }
   ],
   "source": [
    "num_folds = 10\n",
    "kfold = KFold(n_splits=num_folds)\n",
    "\n",
    "accuracy = cross_val_score(dt, X, Y, scoring='r2', cv = kfold)\n",
    "print(\"Accuracy: %.2f%% (%.2f%%)\" % (accuracy.mean()*100.0, accuracy.std()*100.0))\n",
    "\n",
    "model_performance['Model'].append('DecisionTreeRegressor')\n",
    "model_performance['Standard_Div'].append('%.2f' % (accuracy.std()*100.0))\n",
    "model_performance['Accuracy'].append('%.2f' % (accuracy.mean()*100.0))"
   ]
  },
  {
   "cell_type": "code",
   "execution_count": 27,
   "metadata": {},
   "outputs": [
    {
     "name": "stdout",
     "output_type": "stream",
     "text": [
      "Accuracy: 77.39% (3.82%)\n"
     ]
    }
   ],
   "source": [
    "abr = AdaBoostRegressor(random_state=0, n_estimators=100)\n",
    "\n",
    "accuracy = cross_val_score(abr, X, Y, scoring='r2', cv = kfold)\n",
    "print(\"Accuracy: %.2f%% (%.2f%%)\" % (accuracy.mean()*100.0, accuracy.std()*100.0))\n",
    "\n",
    "model_performance['Model'].append('AdaBoostRegressor')\n",
    "model_performance['Standard_Div'].append('%.2f' % (accuracy.std()*100.0))\n",
    "model_performance['Accuracy'].append('%.2f' % (accuracy.mean()*100.0))"
   ]
  },
  {
   "cell_type": "code",
   "execution_count": 28,
   "metadata": {},
   "outputs": [
    {
     "name": "stdout",
     "output_type": "stream",
     "text": [
      "Accuracy: 91.15% (3.06%)\n"
     ]
    }
   ],
   "source": [
    "rfr=RandomForestRegressor()\n",
    "\n",
    "accuracy = cross_val_score(rfr, X, Y, scoring='r2', cv = kfold)\n",
    "print(\"Accuracy: %.2f%% (%.2f%%)\" % (accuracy.mean()*100.0, accuracy.std()*100.0))\n",
    "\n",
    "model_performance['Model'].append('RandomForestRegressor')\n",
    "model_performance['Standard_Div'].append('%.2f' % (accuracy.std()*100.0))\n",
    "model_performance['Accuracy'].append('%.2f' % (accuracy.mean()*100.0))"
   ]
  },
  {
   "cell_type": "code",
   "execution_count": 29,
   "metadata": {},
   "outputs": [
    {
     "name": "stdout",
     "output_type": "stream",
     "text": [
      "Accuracy: 89.82% (2.11%)\n"
     ]
    }
   ],
   "source": [
    "gb=GradientBoostingRegressor()\n",
    "\n",
    "accuracy = cross_val_score(gb, X, Y, scoring='r2', cv = kfold)\n",
    "print(\"Accuracy: %.2f%% (%.2f%%)\" % (accuracy.mean()*100.0, accuracy.std()*100.0))\n",
    "\n",
    "model_performance['Model'].append('GradientBoostingRegressor')\n",
    "model_performance['Standard_Div'].append('%.2f' % (accuracy.std()*100.0))\n",
    "model_performance['Accuracy'].append('%.2f' % (accuracy.mean()*100.0))"
   ]
  },
  {
   "cell_type": "code",
   "execution_count": 30,
   "metadata": {},
   "outputs": [
    {
     "name": "stdout",
     "output_type": "stream",
     "text": [
      "Accuracy: 90.69% (2.98%)\n"
     ]
    }
   ],
   "source": [
    "bgcl = BaggingRegressor(base_estimator=dt, n_estimators=50,random_state=1)\n",
    "\n",
    "accuracy = cross_val_score(bgcl, X, Y, scoring='r2', cv = kfold)\n",
    "print(\"Accuracy: %.2f%% (%.2f%%)\" % (accuracy.mean()*100.0, accuracy.std()*100.0))\n",
    "\n",
    "model_performance['Model'].append('BaggingRegressor')\n",
    "model_performance['Standard_Div'].append('%.2f' % (accuracy.std()*100.0))\n",
    "model_performance['Accuracy'].append('%.2f' % (accuracy.mean()*100.0))"
   ]
  },
  {
   "cell_type": "markdown",
   "metadata": {},
   "source": [
    "### Performance Matrix"
   ]
  },
  {
   "cell_type": "code",
   "execution_count": 31,
   "metadata": {},
   "outputs": [
    {
     "data": {
      "text/html": [
       "<div>\n",
       "<style scoped>\n",
       "    .dataframe tbody tr th:only-of-type {\n",
       "        vertical-align: middle;\n",
       "    }\n",
       "\n",
       "    .dataframe tbody tr th {\n",
       "        vertical-align: top;\n",
       "    }\n",
       "\n",
       "    .dataframe thead th {\n",
       "        text-align: right;\n",
       "    }\n",
       "</style>\n",
       "<table border=\"1\" class=\"dataframe\">\n",
       "  <thead>\n",
       "    <tr style=\"text-align: right;\">\n",
       "      <th></th>\n",
       "      <th>Model</th>\n",
       "      <th>Accuracy</th>\n",
       "      <th>Standard_Div</th>\n",
       "    </tr>\n",
       "  </thead>\n",
       "  <tbody>\n",
       "    <tr>\n",
       "      <th>0</th>\n",
       "      <td>DecisionTreeRegressor</td>\n",
       "      <td>84.85</td>\n",
       "      <td>4.10</td>\n",
       "    </tr>\n",
       "    <tr>\n",
       "      <th>1</th>\n",
       "      <td>AdaBoostRegressor</td>\n",
       "      <td>77.39</td>\n",
       "      <td>3.82</td>\n",
       "    </tr>\n",
       "    <tr>\n",
       "      <th>2</th>\n",
       "      <td>RandomForestRegressor</td>\n",
       "      <td>91.15</td>\n",
       "      <td>3.06</td>\n",
       "    </tr>\n",
       "    <tr>\n",
       "      <th>3</th>\n",
       "      <td>GradientBoostingRegressor</td>\n",
       "      <td>89.82</td>\n",
       "      <td>2.11</td>\n",
       "    </tr>\n",
       "    <tr>\n",
       "      <th>4</th>\n",
       "      <td>BaggingRegressor</td>\n",
       "      <td>90.69</td>\n",
       "      <td>2.98</td>\n",
       "    </tr>\n",
       "  </tbody>\n",
       "</table>\n",
       "</div>"
      ],
      "text/plain": [
       "                       Model Accuracy Standard_Div\n",
       "0      DecisionTreeRegressor    84.85         4.10\n",
       "1          AdaBoostRegressor    77.39         3.82\n",
       "2      RandomForestRegressor    91.15         3.06\n",
       "3  GradientBoostingRegressor    89.82         2.11\n",
       "4           BaggingRegressor    90.69         2.98"
      ]
     },
     "execution_count": 31,
     "metadata": {},
     "output_type": "execute_result"
    }
   ],
   "source": [
    "df = pd.DataFrame(model_performance, columns = ['Model', 'Accuracy', 'Standard_Div'])\n",
    "df.head(20)"
   ]
  },
  {
   "cell_type": "markdown",
   "metadata": {},
   "source": [
    "### Hyper parameter tuning using GridSearchCV"
   ]
  },
  {
   "cell_type": "code",
   "execution_count": 32,
   "metadata": {
    "pycharm": {
     "name": "#%%\n"
    }
   },
   "outputs": [],
   "source": [
    "model_performance = {'Model': [],'R2_Score': []}"
   ]
  },
  {
   "cell_type": "code",
   "execution_count": 33,
   "metadata": {},
   "outputs": [],
   "source": [
    "# param_grid = {'max_depth': np.arange(3, 6),\n",
    "#              'criterion' : ['mse','mae'],\n",
    "#              'max_leaf_nodes': [100,105, 90,95],\n",
    "#              'min_samples_split': [6,7,8,9,10],\n",
    "#              'max_features':[2,3,4,5,6]}\n",
    "\n",
    "# grid_tree = GridSearchCV(DecisionTreeRegressor(), param_grid, cv = kfold, scoring= 'r2')\n",
    "# grid_tree.fit(X_train, y_train)\n",
    "\n",
    "# print(grid_tree.best_estimator_)\n",
    "# print('Test R2 score: %.2f' % np.abs(grid_tree.best_score_))\n",
    "\n",
    "# model_performance['Model'].append('DecisionTreeRegressor')\n",
    "# model_performance['R2_Score'].append('%.2f' % np.abs(grid_tree.best_score_))"
   ]
  },
  {
   "cell_type": "code",
   "execution_count": 34,
   "metadata": {},
   "outputs": [
    {
     "name": "stdout",
     "output_type": "stream",
     "text": [
      "GradientBoostingRegressor(learning_rate=0.2, max_depth=10,\n",
      "                          min_samples_split=170, n_estimators=230,\n",
      "                          random_state=1)\n",
      "R Squared: 0.92 \n"
     ]
    }
   ],
   "source": [
    "param_grid = {'n_estimators': [230],\n",
    "              'max_depth': range(10,31,2), \n",
    "              'min_samples_split': range(50,501,10), \n",
    "              'learning_rate':[0.2]}\n",
    "\n",
    "clf = GridSearchCV(GradientBoostingRegressor(random_state=1), param_grid = param_grid, scoring='r2', cv=kfold)\n",
    "clf.fit(X_train, y_train)\n",
    "print(clf.best_estimator_) \n",
    "print(\"R Squared: %.2f \" % clf.best_score_)\n",
    "\n",
    "model_performance['Model'].append('GradientBoostingRegressor')\n",
    "model_performance['R2_Score'].append('%.2f' % clf.best_score_)"
   ]
  },
  {
   "cell_type": "code",
   "execution_count": 35,
   "metadata": {},
   "outputs": [
    {
     "name": "stdout",
     "output_type": "stream",
     "text": [
      "RandomForestRegressor(max_depth=7, max_leaf_nodes=105, min_samples_split=6)\n",
      "R Squared: 0.84 \n"
     ]
    }
   ],
   "source": [
    "param_grid = {'max_depth': np.arange(3, 8),\n",
    "             'criterion' : ['mse','mae'],\n",
    "             'max_leaf_nodes': [100,105, 90,95],\n",
    "             'min_samples_split': [6,7,8,9,10],\n",
    "             'max_features':['auto','sqrt','log2']}\n",
    "\n",
    "grid_tree = GridSearchCV(RandomForestRegressor(), param_grid, cv = kfold, scoring= 'r2')\n",
    "grid_tree.fit(X_train, y_train)\n",
    "print(grid_tree.best_estimator_)\n",
    "print(\"R Squared: %.2f \" % np.abs(grid_tree.best_score_))\n",
    "\n",
    "model_performance['Model'].append('RandomForestRegressor')\n",
    "model_performance['R2_Score'].append('%.2f' % np.abs(grid_tree.best_score_))"
   ]
  },
  {
   "cell_type": "markdown",
   "metadata": {},
   "source": [
    "### Performance Matrix"
   ]
  },
  {
   "cell_type": "code",
   "execution_count": 36,
   "metadata": {
    "pycharm": {
     "name": "#%%\n"
    }
   },
   "outputs": [
    {
     "data": {
      "text/html": [
       "<div>\n",
       "<style scoped>\n",
       "    .dataframe tbody tr th:only-of-type {\n",
       "        vertical-align: middle;\n",
       "    }\n",
       "\n",
       "    .dataframe tbody tr th {\n",
       "        vertical-align: top;\n",
       "    }\n",
       "\n",
       "    .dataframe thead th {\n",
       "        text-align: right;\n",
       "    }\n",
       "</style>\n",
       "<table border=\"1\" class=\"dataframe\">\n",
       "  <thead>\n",
       "    <tr style=\"text-align: right;\">\n",
       "      <th></th>\n",
       "      <th>Model</th>\n",
       "      <th>R2_Score</th>\n",
       "    </tr>\n",
       "  </thead>\n",
       "  <tbody>\n",
       "    <tr>\n",
       "      <th>0</th>\n",
       "      <td>GradientBoostingRegressor</td>\n",
       "      <td>0.92</td>\n",
       "    </tr>\n",
       "    <tr>\n",
       "      <th>1</th>\n",
       "      <td>RandomForestRegressor</td>\n",
       "      <td>0.84</td>\n",
       "    </tr>\n",
       "  </tbody>\n",
       "</table>\n",
       "</div>"
      ],
      "text/plain": [
       "                       Model R2_Score\n",
       "0  GradientBoostingRegressor     0.92\n",
       "1      RandomForestRegressor     0.84"
      ]
     },
     "execution_count": 36,
     "metadata": {},
     "output_type": "execute_result"
    }
   ],
   "source": [
    "df = pd.DataFrame(model_performance, columns = ['Model', 'R2_Score'])\n",
    "df.head(20)"
   ]
  },
  {
   "cell_type": "markdown",
   "metadata": {},
   "source": [
    "### Using GradientBoostingRegressor with hyper parameter tuning"
   ]
  },
  {
   "cell_type": "code",
   "execution_count": 38,
   "metadata": {
    "pycharm": {
     "name": "#%%\n"
    },
    "scrolled": true
   },
   "outputs": [
    {
     "name": "stdout",
     "output_type": "stream",
     "text": [
      "Train R2 score: 0.99\n",
      "Test R2 score: 0.93\n"
     ]
    }
   ],
   "source": [
    "gb = GradientBoostingRegressor(random_state=1, \n",
    "                               learning_rate=0.2, \n",
    "                               max_depth=10, \n",
    "                               min_samples_split=170, \n",
    "                               n_estimators=230)\n",
    "\n",
    "gb.fit(X_train,y_train)\n",
    "gb.score(X_train,y_train)\n",
    "y_pred_rfrtr=gb.predict(X_train)\n",
    "y_pred_rfrte=gb.predict(X_test)\n",
    "print('Train R2 score: %.2f' % r2_score(y_train,y_pred_rfrtr))\n",
    "print('Test R2 score: %.2f' % r2_score(y_test,y_pred_rfrte))"
   ]
  },
  {
   "cell_type": "markdown",
   "metadata": {
    "pycharm": {
     "name": "#%% md\n"
    }
   },
   "source": [
    "### Significance of the R2 score\n",
    "- R-Squared is a statistical measure in a regression model that determines the proportion of variance in the dependent variable that can be explained by the independent variable\n",
    "- R2 is a measure of the error\n",
    "- Lower R2 values correspond to model with more error, which in turn produces predictions that are less precise.\n",
    "- R-squared shows how well the data fit the regression model"
   ]
  },
  {
   "cell_type": "markdown",
   "metadata": {},
   "source": [
    "### Inference\n",
    "- The compressive strength increases with higher content of super plasticizers.\n",
    "- When the blast furnace slag is greater than 50 kg/m3, the compressive strength increases.\n",
    "- When there is no fly ash present, but the mix with highest content of superplasticizers have a positive impact on the compressive strength.\n",
    "- Water content less than 150 kg/m3 with lower blast furnac slag provides the highest compressive strength\n",
    "- Superplasticizers in the range of 10-12kg/m3 along with higher blast furnace slag increases the compressive strength.\n",
    "- With increasing coarse aggregate, keeping the cement content lower, has positive impact on the compressive strength.\n",
    "- There is inverse relation between fine aggregate and water content.\n",
    "- There is direct relationship between age and compressive strength."
   ]
  },
  {
   "cell_type": "code",
   "execution_count": null,
   "metadata": {},
   "outputs": [],
   "source": []
  }
 ],
 "metadata": {
  "kernelspec": {
   "display_name": "Python 3",
   "language": "python",
   "name": "python3"
  },
  "language_info": {
   "codemirror_mode": {
    "name": "ipython",
    "version": 3
   },
   "file_extension": ".py",
   "mimetype": "text/x-python",
   "name": "python",
   "nbconvert_exporter": "python",
   "pygments_lexer": "ipython3",
   "version": "3.9.1"
  }
 },
 "nbformat": 4,
 "nbformat_minor": 1
}