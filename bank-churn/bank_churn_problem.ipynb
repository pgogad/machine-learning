{
 "cells": [
  {
   "cell_type": "markdown",
   "metadata": {
    "collapsed": true,
    "pycharm": {
     "name": "#%% md\n"
    }
   },
   "source": [
    "# Project - Bank Churn Prediction"
   ]
  },
  {
   "cell_type": "code",
   "execution_count": 176,
   "metadata": {},
   "outputs": [],
   "source": [
    "#!pip3.8 install tensorflow==2.4"
   ]
  },
  {
   "cell_type": "code",
   "execution_count": null,
   "metadata": {
    "pycharm": {
     "is_executing": true,
     "name": "#%%\n"
    }
   },
   "outputs": [],
   "source": [
    "from tensorflow.keras.wrappers.scikit_learn import KerasClassifier\n",
    "from sklearn.model_selection import GridSearchCV\n",
    "from tensorflow.keras.models import Sequential\n",
    "from tensorflow.keras.layers import Dense\n",
    "import numpy as np\n",
    "import pandas as pd\n",
    "import matplotlib.pyplot as plt\n",
    "import seaborn as sns\n",
    "import warnings\n",
    "from sklearn.metrics import confusion_matrix, accuracy_score\n",
    "from tensorflow.keras import Sequential\n",
    "from tensorflow.keras.layers import Dense\n",
    "from sklearn.preprocessing import LabelEncoder\n",
    "from sklearn.model_selection import train_test_split\n",
    "from sklearn.preprocessing import StandardScaler\n",
    "import tensorflow as tf\n",
    "\n",
    "warnings.filterwarnings('ignore')\n",
    "\n",
    "%matplotlib inline"
   ]
  },
  {
   "cell_type": "code",
   "execution_count": 178,
   "metadata": {},
   "outputs": [
    {
     "name": "stdout",
     "output_type": "stream",
     "text": [
      "2.4.1\n"
     ]
    }
   ],
   "source": [
    "print(tf.__version__)"
   ]
  },
  {
   "cell_type": "code",
   "execution_count": 179,
   "metadata": {
    "pycharm": {
     "name": "#%%\n"
    }
   },
   "outputs": [
    {
     "data": {
      "text/plain": [
       "(10000, 14)"
      ]
     },
     "execution_count": 179,
     "metadata": {},
     "output_type": "execute_result"
    }
   ],
   "source": [
    "df = pd.read_csv('bank.csv')\n",
    "df.shape"
   ]
  },
  {
   "cell_type": "code",
   "execution_count": 180,
   "metadata": {},
   "outputs": [
    {
     "data": {
      "text/plain": [
       "RowNumber          0\n",
       "CustomerId         0\n",
       "Surname            0\n",
       "CreditScore        0\n",
       "Geography          0\n",
       "Gender             0\n",
       "Age                0\n",
       "Tenure             0\n",
       "Balance            0\n",
       "NumOfProducts      0\n",
       "HasCrCard          0\n",
       "IsActiveMember     0\n",
       "EstimatedSalary    0\n",
       "Exited             0\n",
       "dtype: int64"
      ]
     },
     "execution_count": 180,
     "metadata": {},
     "output_type": "execute_result"
    }
   ],
   "source": [
    "df.isnull().sum()"
   ]
  },
  {
   "cell_type": "code",
   "execution_count": 181,
   "metadata": {},
   "outputs": [
    {
     "data": {
      "text/plain": [
       "RowNumber          10000\n",
       "CustomerId         10000\n",
       "Surname             2932\n",
       "CreditScore          460\n",
       "Geography              3\n",
       "Gender                 2\n",
       "Age                   70\n",
       "Tenure                11\n",
       "Balance             6382\n",
       "NumOfProducts          4\n",
       "HasCrCard              2\n",
       "IsActiveMember         2\n",
       "EstimatedSalary     9999\n",
       "Exited                 2\n",
       "dtype: int64"
      ]
     },
     "execution_count": 181,
     "metadata": {},
     "output_type": "execute_result"
    }
   ],
   "source": [
    "df.nunique()"
   ]
  },
  {
   "cell_type": "markdown",
   "metadata": {},
   "source": [
    "From the above, we will not require the first 2 attributes as the are specific to a customer. It is borderline with the surname as this would result to profiling so we exclude this as well."
   ]
  },
  {
   "cell_type": "code",
   "execution_count": 182,
   "metadata": {},
   "outputs": [],
   "source": [
    "df = df.drop([\"RowNumber\", \"CustomerId\", \"Surname\"], axis = 1)"
   ]
  },
  {
   "cell_type": "code",
   "execution_count": 183,
   "metadata": {},
   "outputs": [
    {
     "data": {
      "text/html": [
       "<div>\n",
       "<style scoped>\n",
       "    .dataframe tbody tr th:only-of-type {\n",
       "        vertical-align: middle;\n",
       "    }\n",
       "\n",
       "    .dataframe tbody tr th {\n",
       "        vertical-align: top;\n",
       "    }\n",
       "\n",
       "    .dataframe thead th {\n",
       "        text-align: right;\n",
       "    }\n",
       "</style>\n",
       "<table border=\"1\" class=\"dataframe\">\n",
       "  <thead>\n",
       "    <tr style=\"text-align: right;\">\n",
       "      <th></th>\n",
       "      <th>CreditScore</th>\n",
       "      <th>Geography</th>\n",
       "      <th>Gender</th>\n",
       "      <th>Age</th>\n",
       "      <th>Tenure</th>\n",
       "      <th>Balance</th>\n",
       "      <th>NumOfProducts</th>\n",
       "      <th>HasCrCard</th>\n",
       "      <th>IsActiveMember</th>\n",
       "      <th>EstimatedSalary</th>\n",
       "      <th>Exited</th>\n",
       "    </tr>\n",
       "  </thead>\n",
       "  <tbody>\n",
       "    <tr>\n",
       "      <th>0</th>\n",
       "      <td>619</td>\n",
       "      <td>France</td>\n",
       "      <td>Female</td>\n",
       "      <td>42</td>\n",
       "      <td>2</td>\n",
       "      <td>0.00</td>\n",
       "      <td>1</td>\n",
       "      <td>1</td>\n",
       "      <td>1</td>\n",
       "      <td>101348.88</td>\n",
       "      <td>1</td>\n",
       "    </tr>\n",
       "    <tr>\n",
       "      <th>1</th>\n",
       "      <td>608</td>\n",
       "      <td>Spain</td>\n",
       "      <td>Female</td>\n",
       "      <td>41</td>\n",
       "      <td>1</td>\n",
       "      <td>83807.86</td>\n",
       "      <td>1</td>\n",
       "      <td>0</td>\n",
       "      <td>1</td>\n",
       "      <td>112542.58</td>\n",
       "      <td>0</td>\n",
       "    </tr>\n",
       "    <tr>\n",
       "      <th>2</th>\n",
       "      <td>502</td>\n",
       "      <td>France</td>\n",
       "      <td>Female</td>\n",
       "      <td>42</td>\n",
       "      <td>8</td>\n",
       "      <td>159660.80</td>\n",
       "      <td>3</td>\n",
       "      <td>1</td>\n",
       "      <td>0</td>\n",
       "      <td>113931.57</td>\n",
       "      <td>1</td>\n",
       "    </tr>\n",
       "    <tr>\n",
       "      <th>3</th>\n",
       "      <td>699</td>\n",
       "      <td>France</td>\n",
       "      <td>Female</td>\n",
       "      <td>39</td>\n",
       "      <td>1</td>\n",
       "      <td>0.00</td>\n",
       "      <td>2</td>\n",
       "      <td>0</td>\n",
       "      <td>0</td>\n",
       "      <td>93826.63</td>\n",
       "      <td>0</td>\n",
       "    </tr>\n",
       "    <tr>\n",
       "      <th>4</th>\n",
       "      <td>850</td>\n",
       "      <td>Spain</td>\n",
       "      <td>Female</td>\n",
       "      <td>43</td>\n",
       "      <td>2</td>\n",
       "      <td>125510.82</td>\n",
       "      <td>1</td>\n",
       "      <td>1</td>\n",
       "      <td>1</td>\n",
       "      <td>79084.10</td>\n",
       "      <td>0</td>\n",
       "    </tr>\n",
       "  </tbody>\n",
       "</table>\n",
       "</div>"
      ],
      "text/plain": [
       "   CreditScore Geography  Gender  Age  Tenure    Balance  NumOfProducts  \\\n",
       "0          619    France  Female   42       2       0.00              1   \n",
       "1          608     Spain  Female   41       1   83807.86              1   \n",
       "2          502    France  Female   42       8  159660.80              3   \n",
       "3          699    France  Female   39       1       0.00              2   \n",
       "4          850     Spain  Female   43       2  125510.82              1   \n",
       "\n",
       "   HasCrCard  IsActiveMember  EstimatedSalary  Exited  \n",
       "0          1               1        101348.88       1  \n",
       "1          0               1        112542.58       0  \n",
       "2          1               0        113931.57       1  \n",
       "3          0               0         93826.63       0  \n",
       "4          1               1         79084.10       0  "
      ]
     },
     "execution_count": 183,
     "metadata": {},
     "output_type": "execute_result"
    }
   ],
   "source": [
    "df.head()"
   ]
  },
  {
   "cell_type": "code",
   "execution_count": 184,
   "metadata": {},
   "outputs": [
    {
     "data": {
      "text/plain": [
       "CreditScore          int64\n",
       "Geography           object\n",
       "Gender              object\n",
       "Age                  int64\n",
       "Tenure               int64\n",
       "Balance            float64\n",
       "NumOfProducts        int64\n",
       "HasCrCard            int64\n",
       "IsActiveMember       int64\n",
       "EstimatedSalary    float64\n",
       "Exited               int64\n",
       "dtype: object"
      ]
     },
     "execution_count": 184,
     "metadata": {},
     "output_type": "execute_result"
    }
   ],
   "source": [
    "df.dtypes"
   ]
  },
  {
   "cell_type": "markdown",
   "metadata": {},
   "source": [
    "## Exploratory Data Analysis"
   ]
  },
  {
   "cell_type": "code",
   "execution_count": 185,
   "metadata": {},
   "outputs": [
    {
     "data": {
      "image/png": "[encoded data removed]",
      "text/plain": [
       "<Figure size 720x576 with 1 Axes>"
      ]
     },
     "metadata": {},
     "output_type": "display_data"
    }
   ],
   "source": [
    "labels = 'Exited', 'Retained'\n",
    "sizes = [df.Exited[df['Exited']==1].count(), df.Exited[df['Exited']==0].count()]\n",
    "explode = (0, 0.1)\n",
    "fig1, ax1 = plt.subplots(figsize=(10, 8))\n",
    "ax1.pie(sizes, explode=explode, labels=labels, autopct='%1.1f%%', shadow=True, startangle=90)\n",
    "ax1.axis('equal')\n",
    "plt.title(\"Proportion of customer churned and retained\", size = 10)\n",
    "plt.show()"
   ]
  },
  {
   "cell_type": "code",
   "execution_count": 186,
   "metadata": {},
   "outputs": [
    {
     "data": {
      "text/plain": [
       "<AxesSubplot:xlabel='IsActiveMember', ylabel='count'>"
      ]
     },
     "execution_count": 186,
     "metadata": {},
     "output_type": "execute_result"
    },
    {
     "data": {
      "image/png": "[encoded data removed]",
      "text/plain": [
       "<Figure size 1440x864 with 4 Axes>"
      ]
     },
     "metadata": {
      "needs_background": "light"
     },
     "output_type": "display_data"
    }
   ],
   "source": [
    "fig, axarr = plt.subplots(2, 2, figsize=(20, 12))\n",
    "sns.countplot(x='Geography', hue = 'Exited',data = df, ax=axarr[0][0])\n",
    "sns.countplot(x='Gender', hue = 'Exited',data = df, ax=axarr[0][1])\n",
    "sns.countplot(x='HasCrCard', hue = 'Exited',data = df, ax=axarr[1][0])\n",
    "sns.countplot(x='IsActiveMember', hue = 'Exited',data = df, ax=axarr[1][1])"
   ]
  },
  {
   "cell_type": "markdown",
   "metadata": {},
   "source": [
    "Notes from Pie chart and Histograms: \n",
    "\n",
    "1. The proportion of female customers churning is also greater than that of male customers\n",
    "2. Majority of the customers that churned are those with credit cards\n",
    "3. Inactive members have a greater churn\n",
    "4. Churn rate is about 20% "
   ]
  },
  {
   "cell_type": "code",
   "execution_count": 187,
   "metadata": {},
   "outputs": [
    {
     "data": {
      "text/plain": [
       "<AxesSubplot:xlabel='Exited', ylabel='EstimatedSalary'>"
      ]
     },
     "execution_count": 187,
     "metadata": {},
     "output_type": "execute_result"
    },
    {
     "data": {
      "image/png": "[encoded data removed]",
      "text/plain": [
       "<Figure size 1440x864 with 6 Axes>"
      ]
     },
     "metadata": {
      "needs_background": "light"
     },
     "output_type": "display_data"
    }
   ],
   "source": [
    "fig, axarr = plt.subplots(3, 2, figsize=(20, 12))\n",
    "sns.boxplot(y='CreditScore',x = 'Exited', hue = 'Exited',data = df, ax=axarr[0][0])\n",
    "sns.boxplot(y='Age',x = 'Exited', hue = 'Exited',data = df , ax=axarr[0][1])\n",
    "sns.boxplot(y='Tenure',x = 'Exited', hue = 'Exited',data = df, ax=axarr[1][0])\n",
    "sns.boxplot(y='Balance',x = 'Exited', hue = 'Exited',data = df, ax=axarr[1][1])\n",
    "sns.boxplot(y='NumOfProducts',x = 'Exited', hue = 'Exited',data = df, ax=axarr[2][0])\n",
    "sns.boxplot(y='EstimatedSalary',x = 'Exited', hue = 'Exited',data = df, ax=axarr[2][1])"
   ]
  },
  {
   "cell_type": "markdown",
   "metadata": {},
   "source": [
    "Notes from Box plots above: \n",
    "1. There is no significant difference in the credit score distribution between retained and churned customers.\n",
    "2. The older customers are churning at more than the younger ones\n",
    "3. Neither the product nor the salary has a significant effect on the likelihood to churn.\n",
    "4. The Bank needs to review the target market"
   ]
  },
  {
   "cell_type": "markdown",
   "metadata": {},
   "source": [
    "## Feature engineering"
   ]
  },
  {
   "cell_type": "code",
   "execution_count": 188,
   "metadata": {},
   "outputs": [
    {
     "data": {
      "text/plain": [
       "(-1.0, 5.0)"
      ]
     },
     "execution_count": 188,
     "metadata": {},
     "output_type": "execute_result"
    },
    {
     "data": {
      "image/png": "[encoded data removed]",
      "text/plain": [
       "<Figure size 432x288 with 1 Axes>"
      ]
     },
     "metadata": {
      "needs_background": "light"
     },
     "output_type": "display_data"
    }
   ],
   "source": [
    "df['BalanceSalaryRatio'] = df.Balance/df.EstimatedSalary\n",
    "sns.boxplot(y='BalanceSalaryRatio',x = 'Exited', hue = 'Exited',data = df)\n",
    "plt.ylim(-1, 5)"
   ]
  },
  {
   "cell_type": "markdown",
   "metadata": {},
   "source": [
    "As seen above, the ratio of the bank balance and the estimated salary indicates that customers with a higher balance salary ratio churn more which would be worrying to the bank as this impacts their source of loan capital"
   ]
  },
  {
   "cell_type": "code",
   "execution_count": 189,
   "metadata": {
    "scrolled": true
   },
   "outputs": [
    {
     "data": {
      "image/png": "[encoded data removed]",
      "text/plain": [
       "<Figure size 432x288 with 1 Axes>"
      ]
     },
     "metadata": {
      "needs_background": "light"
     },
     "output_type": "display_data"
    }
   ],
   "source": [
    "df['TenureByAge'] = df.Tenure/(df.Age)\n",
    "sns.boxplot(y='TenureByAge',x = 'Exited', hue = 'Exited',data = df)\n",
    "plt.ylim(-1, 1)\n",
    "plt.show()"
   ]
  },
  {
   "cell_type": "markdown",
   "metadata": {},
   "source": [
    "Given that tenure is a 'function' of age, we introduce a variable aiming to standardize tenure over age"
   ]
  },
  {
   "cell_type": "code",
   "execution_count": 190,
   "metadata": {},
   "outputs": [],
   "source": [
    "df['CreditScoreGivenAge'] = df.CreditScore/(df.Age)"
   ]
  },
  {
   "cell_type": "code",
   "execution_count": 191,
   "metadata": {},
   "outputs": [
    {
     "data": {
      "text/html": [
       "<div>\n",
       "<style scoped>\n",
       "    .dataframe tbody tr th:only-of-type {\n",
       "        vertical-align: middle;\n",
       "    }\n",
       "\n",
       "    .dataframe tbody tr th {\n",
       "        vertical-align: top;\n",
       "    }\n",
       "\n",
       "    .dataframe thead th {\n",
       "        text-align: right;\n",
       "    }\n",
       "</style>\n",
       "<table border=\"1\" class=\"dataframe\">\n",
       "  <thead>\n",
       "    <tr style=\"text-align: right;\">\n",
       "      <th></th>\n",
       "      <th>CreditScore</th>\n",
       "      <th>Geography</th>\n",
       "      <th>Gender</th>\n",
       "      <th>Age</th>\n",
       "      <th>Tenure</th>\n",
       "      <th>Balance</th>\n",
       "      <th>NumOfProducts</th>\n",
       "      <th>HasCrCard</th>\n",
       "      <th>IsActiveMember</th>\n",
       "      <th>EstimatedSalary</th>\n",
       "      <th>Exited</th>\n",
       "      <th>BalanceSalaryRatio</th>\n",
       "      <th>TenureByAge</th>\n",
       "      <th>CreditScoreGivenAge</th>\n",
       "    </tr>\n",
       "  </thead>\n",
       "  <tbody>\n",
       "    <tr>\n",
       "      <th>0</th>\n",
       "      <td>619</td>\n",
       "      <td>France</td>\n",
       "      <td>Female</td>\n",
       "      <td>42</td>\n",
       "      <td>2</td>\n",
       "      <td>0.00</td>\n",
       "      <td>1</td>\n",
       "      <td>1</td>\n",
       "      <td>1</td>\n",
       "      <td>101348.88</td>\n",
       "      <td>1</td>\n",
       "      <td>0.000000</td>\n",
       "      <td>0.047619</td>\n",
       "      <td>14.738095</td>\n",
       "    </tr>\n",
       "    <tr>\n",
       "      <th>1</th>\n",
       "      <td>608</td>\n",
       "      <td>Spain</td>\n",
       "      <td>Female</td>\n",
       "      <td>41</td>\n",
       "      <td>1</td>\n",
       "      <td>83807.86</td>\n",
       "      <td>1</td>\n",
       "      <td>-1</td>\n",
       "      <td>1</td>\n",
       "      <td>112542.58</td>\n",
       "      <td>0</td>\n",
       "      <td>0.744677</td>\n",
       "      <td>0.024390</td>\n",
       "      <td>14.829268</td>\n",
       "    </tr>\n",
       "    <tr>\n",
       "      <th>2</th>\n",
       "      <td>502</td>\n",
       "      <td>France</td>\n",
       "      <td>Female</td>\n",
       "      <td>42</td>\n",
       "      <td>8</td>\n",
       "      <td>159660.80</td>\n",
       "      <td>3</td>\n",
       "      <td>1</td>\n",
       "      <td>-1</td>\n",
       "      <td>113931.57</td>\n",
       "      <td>1</td>\n",
       "      <td>1.401375</td>\n",
       "      <td>0.190476</td>\n",
       "      <td>11.952381</td>\n",
       "    </tr>\n",
       "    <tr>\n",
       "      <th>3</th>\n",
       "      <td>699</td>\n",
       "      <td>France</td>\n",
       "      <td>Female</td>\n",
       "      <td>39</td>\n",
       "      <td>1</td>\n",
       "      <td>0.00</td>\n",
       "      <td>2</td>\n",
       "      <td>-1</td>\n",
       "      <td>-1</td>\n",
       "      <td>93826.63</td>\n",
       "      <td>0</td>\n",
       "      <td>0.000000</td>\n",
       "      <td>0.025641</td>\n",
       "      <td>17.923077</td>\n",
       "    </tr>\n",
       "    <tr>\n",
       "      <th>4</th>\n",
       "      <td>850</td>\n",
       "      <td>Spain</td>\n",
       "      <td>Female</td>\n",
       "      <td>43</td>\n",
       "      <td>2</td>\n",
       "      <td>125510.82</td>\n",
       "      <td>1</td>\n",
       "      <td>1</td>\n",
       "      <td>1</td>\n",
       "      <td>79084.10</td>\n",
       "      <td>0</td>\n",
       "      <td>1.587055</td>\n",
       "      <td>0.046512</td>\n",
       "      <td>19.767442</td>\n",
       "    </tr>\n",
       "  </tbody>\n",
       "</table>\n",
       "</div>"
      ],
      "text/plain": [
       "   CreditScore Geography  Gender  Age  Tenure    Balance  NumOfProducts  \\\n",
       "0          619    France  Female   42       2       0.00              1   \n",
       "1          608     Spain  Female   41       1   83807.86              1   \n",
       "2          502    France  Female   42       8  159660.80              3   \n",
       "3          699    France  Female   39       1       0.00              2   \n",
       "4          850     Spain  Female   43       2  125510.82              1   \n",
       "\n",
       "   HasCrCard  IsActiveMember  EstimatedSalary  Exited  BalanceSalaryRatio  \\\n",
       "0          1               1        101348.88       1            0.000000   \n",
       "1         -1               1        112542.58       0            0.744677   \n",
       "2          1              -1        113931.57       1            1.401375   \n",
       "3         -1              -1         93826.63       0            0.000000   \n",
       "4          1               1         79084.10       0            1.587055   \n",
       "\n",
       "   TenureByAge  CreditScoreGivenAge  \n",
       "0     0.047619            14.738095  \n",
       "1     0.024390            14.829268  \n",
       "2     0.190476            11.952381  \n",
       "3     0.025641            17.923077  \n",
       "4     0.046512            19.767442  "
      ]
     },
     "execution_count": 191,
     "metadata": {},
     "output_type": "execute_result"
    }
   ],
   "source": [
    "df.loc[df.HasCrCard == 0, 'HasCrCard'] = -1\n",
    "df.loc[df.IsActiveMember == 0, 'IsActiveMember'] = -1\n",
    "df.head()"
   ]
  },
  {
   "cell_type": "code",
   "execution_count": 192,
   "metadata": {},
   "outputs": [],
   "source": [
    "geo_label = LabelEncoder()\n",
    "df['Geography'] = geo_label.fit_transform(df['Geography'])"
   ]
  },
  {
   "cell_type": "code",
   "execution_count": 193,
   "metadata": {},
   "outputs": [],
   "source": [
    "gender_label = LabelEncoder()\n",
    "df['Gender'] = geo_label.fit_transform(df['Gender'])"
   ]
  },
  {
   "cell_type": "code",
   "execution_count": 194,
   "metadata": {},
   "outputs": [
    {
     "data": {
      "text/html": [
       "<div>\n",
       "<style scoped>\n",
       "    .dataframe tbody tr th:only-of-type {\n",
       "        vertical-align: middle;\n",
       "    }\n",
       "\n",
       "    .dataframe tbody tr th {\n",
       "        vertical-align: top;\n",
       "    }\n",
       "\n",
       "    .dataframe thead th {\n",
       "        text-align: right;\n",
       "    }\n",
       "</style>\n",
       "<table border=\"1\" class=\"dataframe\">\n",
       "  <thead>\n",
       "    <tr style=\"text-align: right;\">\n",
       "      <th></th>\n",
       "      <th>CreditScore</th>\n",
       "      <th>Gender</th>\n",
       "      <th>Age</th>\n",
       "      <th>Tenure</th>\n",
       "      <th>Balance</th>\n",
       "      <th>NumOfProducts</th>\n",
       "      <th>HasCrCard</th>\n",
       "      <th>IsActiveMember</th>\n",
       "      <th>EstimatedSalary</th>\n",
       "      <th>Exited</th>\n",
       "      <th>BalanceSalaryRatio</th>\n",
       "      <th>TenureByAge</th>\n",
       "      <th>CreditScoreGivenAge</th>\n",
       "      <th>Geography_1</th>\n",
       "      <th>Geography_2</th>\n",
       "    </tr>\n",
       "  </thead>\n",
       "  <tbody>\n",
       "    <tr>\n",
       "      <th>0</th>\n",
       "      <td>619</td>\n",
       "      <td>0</td>\n",
       "      <td>42</td>\n",
       "      <td>2</td>\n",
       "      <td>0.00</td>\n",
       "      <td>1</td>\n",
       "      <td>1</td>\n",
       "      <td>1</td>\n",
       "      <td>101348.88</td>\n",
       "      <td>1</td>\n",
       "      <td>0.000000</td>\n",
       "      <td>0.047619</td>\n",
       "      <td>14.738095</td>\n",
       "      <td>0</td>\n",
       "      <td>0</td>\n",
       "    </tr>\n",
       "    <tr>\n",
       "      <th>1</th>\n",
       "      <td>608</td>\n",
       "      <td>0</td>\n",
       "      <td>41</td>\n",
       "      <td>1</td>\n",
       "      <td>83807.86</td>\n",
       "      <td>1</td>\n",
       "      <td>-1</td>\n",
       "      <td>1</td>\n",
       "      <td>112542.58</td>\n",
       "      <td>0</td>\n",
       "      <td>0.744677</td>\n",
       "      <td>0.024390</td>\n",
       "      <td>14.829268</td>\n",
       "      <td>0</td>\n",
       "      <td>1</td>\n",
       "    </tr>\n",
       "    <tr>\n",
       "      <th>2</th>\n",
       "      <td>502</td>\n",
       "      <td>0</td>\n",
       "      <td>42</td>\n",
       "      <td>8</td>\n",
       "      <td>159660.80</td>\n",
       "      <td>3</td>\n",
       "      <td>1</td>\n",
       "      <td>-1</td>\n",
       "      <td>113931.57</td>\n",
       "      <td>1</td>\n",
       "      <td>1.401375</td>\n",
       "      <td>0.190476</td>\n",
       "      <td>11.952381</td>\n",
       "      <td>0</td>\n",
       "      <td>0</td>\n",
       "    </tr>\n",
       "    <tr>\n",
       "      <th>3</th>\n",
       "      <td>699</td>\n",
       "      <td>0</td>\n",
       "      <td>39</td>\n",
       "      <td>1</td>\n",
       "      <td>0.00</td>\n",
       "      <td>2</td>\n",
       "      <td>-1</td>\n",
       "      <td>-1</td>\n",
       "      <td>93826.63</td>\n",
       "      <td>0</td>\n",
       "      <td>0.000000</td>\n",
       "      <td>0.025641</td>\n",
       "      <td>17.923077</td>\n",
       "      <td>0</td>\n",
       "      <td>0</td>\n",
       "    </tr>\n",
       "    <tr>\n",
       "      <th>4</th>\n",
       "      <td>850</td>\n",
       "      <td>0</td>\n",
       "      <td>43</td>\n",
       "      <td>2</td>\n",
       "      <td>125510.82</td>\n",
       "      <td>1</td>\n",
       "      <td>1</td>\n",
       "      <td>1</td>\n",
       "      <td>79084.10</td>\n",
       "      <td>0</td>\n",
       "      <td>1.587055</td>\n",
       "      <td>0.046512</td>\n",
       "      <td>19.767442</td>\n",
       "      <td>0</td>\n",
       "      <td>1</td>\n",
       "    </tr>\n",
       "  </tbody>\n",
       "</table>\n",
       "</div>"
      ],
      "text/plain": [
       "   CreditScore  Gender  Age  Tenure    Balance  NumOfProducts  HasCrCard  \\\n",
       "0          619       0   42       2       0.00              1          1   \n",
       "1          608       0   41       1   83807.86              1         -1   \n",
       "2          502       0   42       8  159660.80              3          1   \n",
       "3          699       0   39       1       0.00              2         -1   \n",
       "4          850       0   43       2  125510.82              1          1   \n",
       "\n",
       "   IsActiveMember  EstimatedSalary  Exited  BalanceSalaryRatio  TenureByAge  \\\n",
       "0               1        101348.88       1            0.000000     0.047619   \n",
       "1               1        112542.58       0            0.744677     0.024390   \n",
       "2              -1        113931.57       1            1.401375     0.190476   \n",
       "3              -1         93826.63       0            0.000000     0.025641   \n",
       "4               1         79084.10       0            1.587055     0.046512   \n",
       "\n",
       "   CreditScoreGivenAge  Geography_1  Geography_2  \n",
       "0            14.738095            0            0  \n",
       "1            14.829268            0            1  \n",
       "2            11.952381            0            0  \n",
       "3            17.923077            0            0  \n",
       "4            19.767442            0            1  "
      ]
     },
     "execution_count": 194,
     "metadata": {},
     "output_type": "execute_result"
    }
   ],
   "source": [
    "df = pd.get_dummies(df, drop_first=True, columns=['Geography'])\n",
    "df.head()"
   ]
  },
  {
   "cell_type": "markdown",
   "metadata": {},
   "source": [
    "## Splitting the data"
   ]
  },
  {
   "cell_type": "code",
   "execution_count": 195,
   "metadata": {},
   "outputs": [],
   "source": [
    "X = df.drop(labels=['Exited'], axis = 1)\n",
    "y = df['Exited']"
   ]
  },
  {
   "cell_type": "code",
   "execution_count": 196,
   "metadata": {},
   "outputs": [],
   "source": [
    "X_train, X_test, y_train, y_test = train_test_split(X, y, test_size = 0.2, random_state = 0, stratify = y)"
   ]
  },
  {
   "cell_type": "code",
   "execution_count": 197,
   "metadata": {},
   "outputs": [],
   "source": [
    "scaler = StandardScaler()\n",
    "X_train = scaler.fit_transform(X_train)\n",
    "X_test = scaler.transform(X_test)"
   ]
  },
  {
   "cell_type": "code",
   "execution_count": 198,
   "metadata": {},
   "outputs": [
    {
     "data": {
      "text/plain": [
       "(10000, 14)"
      ]
     },
     "execution_count": 198,
     "metadata": {},
     "output_type": "execute_result"
    }
   ],
   "source": [
    "X.shape"
   ]
  },
  {
   "cell_type": "markdown",
   "metadata": {},
   "source": [
    "## Model Building"
   ]
  },
  {
   "cell_type": "code",
   "execution_count": 199,
   "metadata": {},
   "outputs": [],
   "source": [
    "classifier = tf.keras.models.Sequential()\n",
    "classifier.add(tf.keras.layers.Dense(X.shape[1], activation='relu', input_dim = X.shape[1]))\n",
    "classifier.add(tf.keras.layers.Dense(1, activation = 'sigmoid'))\n",
    "classifier.compile(optimizer='adam', loss = 'binary_crossentropy', metrics=['accuracy'])"
   ]
  },
  {
   "cell_type": "code",
   "execution_count": 200,
   "metadata": {},
   "outputs": [
    {
     "name": "stdout",
     "output_type": "stream",
     "text": [
      "Epoch 1/100\n",
      "800/800 [==============================] - 1s 911us/step - loss: 0.5575 - accuracy: 0.7185\n",
      "Epoch 2/100\n",
      "800/800 [==============================] - 1s 968us/step - loss: 0.4125 - accuracy: 0.8235\n",
      "Epoch 3/100\n",
      "800/800 [==============================] - 1s 1ms/step - loss: 0.4015 - accuracy: 0.8321\n",
      "Epoch 4/100\n",
      "800/800 [==============================] - 1s 963us/step - loss: 0.3814 - accuracy: 0.8446\n",
      "Epoch 5/100\n",
      "800/800 [==============================] - 1s 920us/step - loss: 0.3745 - accuracy: 0.8476\n",
      "Epoch 6/100\n",
      "800/800 [==============================] - 1s 786us/step - loss: 0.3672 - accuracy: 0.8504\n",
      "Epoch 7/100\n",
      "800/800 [==============================] - 1s 827us/step - loss: 0.3439 - accuracy: 0.8560\n",
      "Epoch 8/100\n",
      "800/800 [==============================] - 1s 807us/step - loss: 0.3597 - accuracy: 0.8503\n",
      "Epoch 9/100\n",
      "800/800 [==============================] - 1s 789us/step - loss: 0.3391 - accuracy: 0.8599\n",
      "Epoch 10/100\n",
      "800/800 [==============================] - 1s 816us/step - loss: 0.3370 - accuracy: 0.8623\n",
      "Epoch 11/100\n",
      "800/800 [==============================] - 1s 733us/step - loss: 0.3475 - accuracy: 0.8536\n",
      "Epoch 12/100\n",
      "800/800 [==============================] - 1s 869us/step - loss: 0.3424 - accuracy: 0.8621\n",
      "Epoch 13/100\n",
      "800/800 [==============================] - 1s 903us/step - loss: 0.3395 - accuracy: 0.8621\n",
      "Epoch 14/100\n",
      "800/800 [==============================] - 1s 759us/step - loss: 0.3442 - accuracy: 0.8622\n",
      "Epoch 15/100\n",
      "800/800 [==============================] - 1s 758us/step - loss: 0.3476 - accuracy: 0.8593\n",
      "Epoch 16/100\n",
      "800/800 [==============================] - 1s 733us/step - loss: 0.3361 - accuracy: 0.8636\n",
      "Epoch 17/100\n",
      "800/800 [==============================] - 1s 754us/step - loss: 0.3394 - accuracy: 0.8608\n",
      "Epoch 18/100\n",
      "800/800 [==============================] - 1s 864us/step - loss: 0.3272 - accuracy: 0.8668\n",
      "Epoch 19/100\n",
      "800/800 [==============================] - 1s 799us/step - loss: 0.3297 - accuracy: 0.8648\n",
      "Epoch 20/100\n",
      "800/800 [==============================] - 1s 1ms/step - loss: 0.3174 - accuracy: 0.8722\n",
      "Epoch 21/100\n",
      "800/800 [==============================] - 1s 1ms/step - loss: 0.3394 - accuracy: 0.8546\n",
      "Epoch 22/100\n",
      "800/800 [==============================] - 1s 1ms/step - loss: 0.3319 - accuracy: 0.8611\n",
      "Epoch 23/100\n",
      "800/800 [==============================] - 1s 879us/step - loss: 0.3327 - accuracy: 0.8639\n",
      "Epoch 24/100\n",
      "800/800 [==============================] - 1s 796us/step - loss: 0.3350 - accuracy: 0.8608\n",
      "Epoch 25/100\n",
      "800/800 [==============================] - 1s 770us/step - loss: 0.3254 - accuracy: 0.8687\n",
      "Epoch 26/100\n",
      "800/800 [==============================] - 1s 1ms/step - loss: 0.3324 - accuracy: 0.8637\n",
      "Epoch 27/100\n",
      "800/800 [==============================] - 1s 961us/step - loss: 0.3418 - accuracy: 0.8609\n",
      "Epoch 28/100\n",
      "800/800 [==============================] - 1s 803us/step - loss: 0.3273 - accuracy: 0.8645\n",
      "Epoch 29/100\n",
      "800/800 [==============================] - 1s 741us/step - loss: 0.3369 - accuracy: 0.8636\n",
      "Epoch 30/100\n",
      "800/800 [==============================] - 1s 764us/step - loss: 0.3384 - accuracy: 0.8552\n",
      "Epoch 31/100\n",
      "800/800 [==============================] - 1s 806us/step - loss: 0.3226 - accuracy: 0.8670\n",
      "Epoch 32/100\n",
      "800/800 [==============================] - 1s 880us/step - loss: 0.3220 - accuracy: 0.8747\n",
      "Epoch 33/100\n",
      "800/800 [==============================] - 1s 815us/step - loss: 0.3174 - accuracy: 0.8743\n",
      "Epoch 34/100\n",
      "800/800 [==============================] - 1s 876us/step - loss: 0.3172 - accuracy: 0.8707\n",
      "Epoch 35/100\n",
      "800/800 [==============================] - 1s 986us/step - loss: 0.3235 - accuracy: 0.8664\n",
      "Epoch 36/100\n",
      "800/800 [==============================] - 1s 841us/step - loss: 0.3123 - accuracy: 0.8691\n",
      "Epoch 37/100\n",
      "800/800 [==============================] - 1s 1ms/step - loss: 0.3314 - accuracy: 0.8572\n",
      "Epoch 38/100\n",
      "800/800 [==============================] - 1s 857us/step - loss: 0.3383 - accuracy: 0.8588\n",
      "Epoch 39/100\n",
      "800/800 [==============================] - 1s 991us/step - loss: 0.3215 - accuracy: 0.8661\n",
      "Epoch 40/100\n",
      "800/800 [==============================] - 1s 896us/step - loss: 0.3413 - accuracy: 0.8609\n",
      "Epoch 41/100\n",
      "800/800 [==============================] - 1s 793us/step - loss: 0.3236 - accuracy: 0.8638\n",
      "Epoch 42/100\n",
      "800/800 [==============================] - 1s 735us/step - loss: 0.3185 - accuracy: 0.8691\n",
      "Epoch 43/100\n",
      "800/800 [==============================] - 1s 841us/step - loss: 0.3180 - accuracy: 0.8663\n",
      "Epoch 44/100\n",
      "800/800 [==============================] - 1s 782us/step - loss: 0.3181 - accuracy: 0.8686\n",
      "Epoch 45/100\n",
      "800/800 [==============================] - 1s 819us/step - loss: 0.3162 - accuracy: 0.8725\n",
      "Epoch 46/100\n",
      "800/800 [==============================] - 1s 815us/step - loss: 0.3191 - accuracy: 0.8706\n",
      "Epoch 47/100\n",
      "800/800 [==============================] - 1s 758us/step - loss: 0.3145 - accuracy: 0.8683\n",
      "Epoch 48/100\n",
      "800/800 [==============================] - 1s 749us/step - loss: 0.3239 - accuracy: 0.8671\n",
      "Epoch 49/100\n",
      "800/800 [==============================] - 1s 904us/step - loss: 0.3210 - accuracy: 0.8690\n",
      "Epoch 50/100\n",
      "800/800 [==============================] - 1s 824us/step - loss: 0.3153 - accuracy: 0.8673\n",
      "Epoch 51/100\n",
      "800/800 [==============================] - 1s 737us/step - loss: 0.3202 - accuracy: 0.8724\n",
      "Epoch 52/100\n",
      "800/800 [==============================] - 1s 749us/step - loss: 0.3305 - accuracy: 0.8628\n",
      "Epoch 53/100\n",
      "800/800 [==============================] - 1s 810us/step - loss: 0.3237 - accuracy: 0.8682\n",
      "Epoch 54/100\n",
      "800/800 [==============================] - 1s 959us/step - loss: 0.3306 - accuracy: 0.8630\n",
      "Epoch 55/100\n",
      "800/800 [==============================] - 1s 789us/step - loss: 0.3289 - accuracy: 0.8644\n",
      "Epoch 56/100\n",
      "800/800 [==============================] - 1s 790us/step - loss: 0.3246 - accuracy: 0.8652\n",
      "Epoch 57/100\n",
      "800/800 [==============================] - 1s 712us/step - loss: 0.3288 - accuracy: 0.8620\n",
      "Epoch 58/100\n",
      "800/800 [==============================] - 1s 726us/step - loss: 0.3271 - accuracy: 0.8614\n",
      "Epoch 59/100\n",
      "800/800 [==============================] - 1s 733us/step - loss: 0.3283 - accuracy: 0.8642\n",
      "Epoch 60/100\n",
      "800/800 [==============================] - 1s 793us/step - loss: 0.3281 - accuracy: 0.8661\n",
      "Epoch 61/100\n",
      "800/800 [==============================] - 1s 966us/step - loss: 0.3189 - accuracy: 0.8695\n",
      "Epoch 62/100\n",
      "800/800 [==============================] - 1s 1ms/step - loss: 0.3293 - accuracy: 0.8615\n",
      "Epoch 63/100\n",
      "800/800 [==============================] - 1s 1ms/step - loss: 0.3163 - accuracy: 0.8694\n",
      "Epoch 64/100\n",
      "800/800 [==============================] - 1s 903us/step - loss: 0.3178 - accuracy: 0.8726\n",
      "Epoch 65/100\n",
      "800/800 [==============================] - 1s 1ms/step - loss: 0.3151 - accuracy: 0.8695\n",
      "Epoch 66/100\n",
      "800/800 [==============================] - 1s 1ms/step - loss: 0.3184 - accuracy: 0.8699\n",
      "Epoch 67/100\n",
      "800/800 [==============================] - 1s 999us/step - loss: 0.3229 - accuracy: 0.8623\n",
      "Epoch 68/100\n",
      "800/800 [==============================] - 1s 965us/step - loss: 0.3312 - accuracy: 0.8609\n",
      "Epoch 69/100\n",
      "800/800 [==============================] - 1s 976us/step - loss: 0.3242 - accuracy: 0.8656\n",
      "Epoch 70/100\n",
      "800/800 [==============================] - 1s 835us/step - loss: 0.3300 - accuracy: 0.8621\n",
      "Epoch 71/100\n",
      "800/800 [==============================] - 1s 841us/step - loss: 0.3215 - accuracy: 0.8700\n",
      "Epoch 72/100\n",
      "800/800 [==============================] - 1s 850us/step - loss: 0.3341 - accuracy: 0.8580\n",
      "Epoch 73/100\n",
      "800/800 [==============================] - 1s 899us/step - loss: 0.3230 - accuracy: 0.8641\n",
      "Epoch 74/100\n",
      "800/800 [==============================] - 1s 906us/step - loss: 0.3147 - accuracy: 0.8693\n",
      "Epoch 75/100\n",
      "800/800 [==============================] - 1s 851us/step - loss: 0.3239 - accuracy: 0.8678\n",
      "Epoch 76/100\n",
      "800/800 [==============================] - 1s 814us/step - loss: 0.3255 - accuracy: 0.8658\n",
      "Epoch 77/100\n",
      "800/800 [==============================] - 1s 841us/step - loss: 0.3251 - accuracy: 0.8656\n",
      "Epoch 78/100\n",
      "800/800 [==============================] - 1s 906us/step - loss: 0.3118 - accuracy: 0.8758\n",
      "Epoch 79/100\n",
      "800/800 [==============================] - 1s 858us/step - loss: 0.3287 - accuracy: 0.8622\n",
      "Epoch 80/100\n"
     ]
    },
    {
     "name": "stdout",
     "output_type": "stream",
     "text": [
      "800/800 [==============================] - 1s 871us/step - loss: 0.3237 - accuracy: 0.8628\n",
      "Epoch 81/100\n",
      "800/800 [==============================] - 1s 1ms/step - loss: 0.3212 - accuracy: 0.8672\n",
      "Epoch 82/100\n",
      "800/800 [==============================] - 1s 839us/step - loss: 0.3303 - accuracy: 0.8601\n",
      "Epoch 83/100\n",
      "800/800 [==============================] - 1s 908us/step - loss: 0.3287 - accuracy: 0.8641\n",
      "Epoch 84/100\n",
      "800/800 [==============================] - 1s 992us/step - loss: 0.3133 - accuracy: 0.8712\n",
      "Epoch 85/100\n",
      "800/800 [==============================] - 1s 972us/step - loss: 0.3226 - accuracy: 0.8669\n",
      "Epoch 86/100\n",
      "800/800 [==============================] - 1s 925us/step - loss: 0.3060 - accuracy: 0.8742\n",
      "Epoch 87/100\n",
      "800/800 [==============================] - 1s 935us/step - loss: 0.3252 - accuracy: 0.8680\n",
      "Epoch 88/100\n",
      "800/800 [==============================] - 1s 906us/step - loss: 0.3213 - accuracy: 0.8639\n",
      "Epoch 89/100\n",
      "800/800 [==============================] - 1s 919us/step - loss: 0.3322 - accuracy: 0.8651\n",
      "Epoch 90/100\n",
      "800/800 [==============================] - 1s 975us/step - loss: 0.3148 - accuracy: 0.8690\n",
      "Epoch 91/100\n",
      "800/800 [==============================] - 1s 869us/step - loss: 0.3263 - accuracy: 0.8663\n",
      "Epoch 92/100\n",
      "800/800 [==============================] - 1s 783us/step - loss: 0.3262 - accuracy: 0.8649\n",
      "Epoch 93/100\n",
      "800/800 [==============================] - 1s 739us/step - loss: 0.3275 - accuracy: 0.8636\n",
      "Epoch 94/100\n",
      "800/800 [==============================] - 1s 868us/step - loss: 0.3262 - accuracy: 0.8619\n",
      "Epoch 95/100\n",
      "800/800 [==============================] - 1s 888us/step - loss: 0.3266 - accuracy: 0.8637\n",
      "Epoch 96/100\n",
      "800/800 [==============================] - 1s 964us/step - loss: 0.3341 - accuracy: 0.8628\n",
      "Epoch 97/100\n",
      "800/800 [==============================] - 1s 792us/step - loss: 0.3143 - accuracy: 0.8708\n",
      "Epoch 98/100\n",
      "800/800 [==============================] - 1s 850us/step - loss: 0.3317 - accuracy: 0.8618\n",
      "Epoch 99/100\n",
      "800/800 [==============================] - 1s 1ms/step - loss: 0.3243 - accuracy: 0.8654\n",
      "Epoch 100/100\n",
      "800/800 [==============================] - 1s 994us/step - loss: 0.3244 - accuracy: 0.8668\n"
     ]
    },
    {
     "data": {
      "text/plain": [
       "<tensorflow.python.keras.callbacks.History at 0x1648669a0>"
      ]
     },
     "execution_count": 200,
     "metadata": {},
     "output_type": "execute_result"
    }
   ],
   "source": [
    "classifier.fit(X_train, y_train.to_numpy(), batch_size = 10, epochs = 100  )"
   ]
  },
  {
   "cell_type": "code",
   "execution_count": 156,
   "metadata": {},
   "outputs": [
    {
     "name": "stdout",
     "output_type": "stream",
     "text": [
      "63/63 [==============================] - 0s 851us/step - loss: 0.7357 - accuracy: 0.5460\n"
     ]
    },
    {
     "data": {
      "text/plain": [
       "[0.7515200972557068, 0.5254999995231628]"
      ]
     },
     "execution_count": 156,
     "metadata": {},
     "output_type": "execute_result"
    }
   ],
   "source": [
    "classifier.evaluate(X_test, y_test.to_numpy())"
   ]
  },
  {
   "cell_type": "code",
   "execution_count": 157,
   "metadata": {},
   "outputs": [],
   "source": [
    "y_pred = classifier.predict(X_test)\n",
    "y_pred = (y_pred > 0.5)"
   ]
  },
  {
   "cell_type": "code",
   "execution_count": 158,
   "metadata": {},
   "outputs": [
    {
     "name": "stdout",
     "output_type": "stream",
     "text": [
      "0.5255\n"
     ]
    }
   ],
   "source": [
    "print(accuracy_score(y_test, y_pred))"
   ]
  },
  {
   "cell_type": "code",
   "execution_count": 159,
   "metadata": {},
   "outputs": [
    {
     "data": {
      "text/plain": [
       "<AxesSubplot:>"
      ]
     },
     "execution_count": 159,
     "metadata": {},
     "output_type": "execute_result"
    },
    {
     "data": {
      "image/png": "[encoded data removed]",
      "text/plain": [
       "<Figure size 504x360 with 2 Axes>"
      ]
     },
     "metadata": {
      "needs_background": "light"
     },
     "output_type": "display_data"
    }
   ],
   "source": [
    "cm = confusion_matrix(y_test, y_pred, labels=[1,0])\n",
    "df_cm = pd.DataFrame(cm, index = [i for i in [\"1\",\"0\"]],columns = [i for i in [\"Predict 1\",\"Predict 0\"]])\n",
    "plt.figure(figsize = (7,5))\n",
    "sns.heatmap(df_cm, annot=True)"
   ]
  },
  {
   "cell_type": "markdown",
   "metadata": {},
   "source": [
    "## Model tuning"
   ]
  },
  {
   "cell_type": "code",
   "execution_count": 160,
   "metadata": {},
   "outputs": [],
   "source": [
    "def build_classifier(optimizer):\n",
    "    classifier = tf.keras.models.Sequential()\n",
    "    classifier.add(tf.keras.layers.Dense(X.shape[1], kernel_initializer = 'uniform', activation = 'relu', input_dim = X.shape[1]))\n",
    "    classifier.add(tf.keras.layers.Dense(6, kernel_initializer = 'uniform', activation = 'relu'))\n",
    "    classifier.add(Dense(1, kernel_initializer = 'uniform', activation = 'sigmoid'))\n",
    "    classifier.compile(optimizer = optimizer, loss = 'binary_crossentropy', metrics = ['accuracy'])\n",
    "    return classifier\n",
    "        "
   ]
  },
  {
   "cell_type": "code",
   "execution_count": 161,
   "metadata": {},
   "outputs": [],
   "source": [
    "classifier = KerasClassifier(build_fn = build_classifier)"
   ]
  },
  {
   "cell_type": "code",
   "execution_count": 162,
   "metadata": {},
   "outputs": [],
   "source": [
    "parameters = {'batch_size': [25, 32],'epochs': [100, 500], 'optimizer': ['adam', 'rmsprop']}\n",
    "grid_search = GridSearchCV(estimator = classifier, param_grid = parameters, scoring = 'accuracy',cv = 10)\n",
    "grid_search = grid_search.fit(X_train, y_train)"
   ]
  },
  {
   "cell_type": "code",
   "execution_count": 163,
   "metadata": {},
   "outputs": [],
   "source": [
    "print(grid_search.best_params_)\n",
    "print(grid_search.best_score_)"
   ]
  },
  {
   "cell_type": "markdown",
   "metadata": {},
   "source": [
    "Based upon the Grid Search results, creating the improved model."
   ]
  },
  {
   "cell_type": "markdown",
   "metadata": {},
   "source": [
    "## Improved model"
   ]
  },
  {
   "cell_type": "code",
   "execution_count": 165,
   "metadata": {},
   "outputs": [],
   "source": [
    "model = tf.keras.models.Sequential()\n",
    "model.add(tf.keras.layers.Dense(X.shape[1], kernel_initializer = 'uniform', activation = 'relu', input_dim = X.shape[1]))\n",
    "model.add(tf.keras.layers.Dense(6, kernel_initializer = 'uniform', activation = 'relu'))\n",
    "model.add(Dense(1, kernel_initializer = 'uniform', activation = 'sigmoid'))\n",
    "model.compile(optimizer = 'adam', loss = 'binary_crossentropy', metrics = ['accuracy'])"
   ]
  },
  {
   "cell_type": "code",
   "execution_count": null,
   "metadata": {},
   "outputs": [
    {
     "name": "stdout",
     "output_type": "stream",
     "text": [
      "Epoch 1/500\n",
      "250/250 [==============================] - 1s 943us/step - loss: 0.6382 - accuracy: 0.7964\n",
      "Epoch 2/500\n",
      "250/250 [==============================] - 0s 934us/step - loss: 0.4325 - accuracy: 0.7980\n",
      "Epoch 3/500\n",
      "250/250 [==============================] - 0s 935us/step - loss: 0.4079 - accuracy: 0.8268\n",
      "Epoch 4/500\n",
      "250/250 [==============================] - 0s 989us/step - loss: 0.3876 - accuracy: 0.8384\n",
      "Epoch 5/500\n",
      "250/250 [==============================] - 0s 863us/step - loss: 0.3895 - accuracy: 0.8382\n",
      "Epoch 6/500\n",
      "250/250 [==============================] - 0s 1ms/step - loss: 0.3952 - accuracy: 0.8313\n",
      "Epoch 7/500\n",
      "250/250 [==============================] - 0s 1ms/step - loss: 0.3779 - accuracy: 0.8431\n",
      "Epoch 8/500\n",
      "250/250 [==============================] - 0s 1ms/step - loss: 0.3744 - accuracy: 0.8425\n",
      "Epoch 9/500\n",
      "250/250 [==============================] - 0s 1ms/step - loss: 0.3730 - accuracy: 0.8463\n",
      "Epoch 10/500\n",
      "250/250 [==============================] - 0s 860us/step - loss: 0.3575 - accuracy: 0.8514\n",
      "Epoch 11/500\n",
      "250/250 [==============================] - 0s 980us/step - loss: 0.3653 - accuracy: 0.8500\n",
      "Epoch 12/500\n",
      "250/250 [==============================] - 0s 985us/step - loss: 0.3568 - accuracy: 0.8521\n",
      "Epoch 13/500\n",
      "250/250 [==============================] - 0s 1ms/step - loss: 0.3536 - accuracy: 0.8541\n",
      "Epoch 14/500\n",
      "250/250 [==============================] - 0s 1ms/step - loss: 0.3573 - accuracy: 0.8512\n",
      "Epoch 15/500\n",
      "250/250 [==============================] - 0s 1ms/step - loss: 0.3475 - accuracy: 0.8544\n",
      "Epoch 16/500\n",
      "250/250 [==============================] - 0s 1ms/step - loss: 0.3369 - accuracy: 0.8635\n",
      "Epoch 17/500\n",
      "250/250 [==============================] - 0s 928us/step - loss: 0.3413 - accuracy: 0.8612\n",
      "Epoch 18/500\n",
      "250/250 [==============================] - 0s 921us/step - loss: 0.3509 - accuracy: 0.8520\n",
      "Epoch 19/500\n",
      "250/250 [==============================] - 0s 956us/step - loss: 0.3438 - accuracy: 0.8587\n",
      "Epoch 20/500\n",
      "250/250 [==============================] - 0s 854us/step - loss: 0.3470 - accuracy: 0.8530\n",
      "Epoch 21/500\n",
      "250/250 [==============================] - 0s 893us/step - loss: 0.3257 - accuracy: 0.8694\n",
      "Epoch 22/500\n",
      "250/250 [==============================] - 0s 881us/step - loss: 0.3417 - accuracy: 0.8584\n",
      "Epoch 23/500\n",
      "250/250 [==============================] - 0s 892us/step - loss: 0.3333 - accuracy: 0.8620\n",
      "Epoch 24/500\n",
      "250/250 [==============================] - 0s 873us/step - loss: 0.3405 - accuracy: 0.8618\n",
      "Epoch 25/500\n",
      "250/250 [==============================] - 0s 832us/step - loss: 0.3496 - accuracy: 0.8542\n",
      "Epoch 26/500\n",
      "250/250 [==============================] - 0s 846us/step - loss: 0.3356 - accuracy: 0.8619\n",
      "Epoch 27/500\n",
      "250/250 [==============================] - 0s 887us/step - loss: 0.3346 - accuracy: 0.8601\n",
      "Epoch 28/500\n",
      "250/250 [==============================] - 0s 840us/step - loss: 0.3340 - accuracy: 0.8630\n",
      "Epoch 29/500\n",
      "250/250 [==============================] - 0s 845us/step - loss: 0.3456 - accuracy: 0.8544\n",
      "Epoch 30/500\n",
      "250/250 [==============================] - 0s 1ms/step - loss: 0.3332 - accuracy: 0.8608\n",
      "Epoch 31/500\n",
      "250/250 [==============================] - 0s 1ms/step - loss: 0.3349 - accuracy: 0.8636\n",
      "Epoch 32/500\n",
      "250/250 [==============================] - 0s 897us/step - loss: 0.3375 - accuracy: 0.8529\n",
      "Epoch 33/500\n",
      "250/250 [==============================] - 0s 839us/step - loss: 0.3391 - accuracy: 0.8602\n",
      "Epoch 34/500\n",
      "250/250 [==============================] - 0s 963us/step - loss: 0.3342 - accuracy: 0.8560\n",
      "Epoch 35/500\n",
      "250/250 [==============================] - 0s 925us/step - loss: 0.3373 - accuracy: 0.8592\n",
      "Epoch 36/500\n",
      "250/250 [==============================] - 0s 972us/step - loss: 0.3289 - accuracy: 0.8663\n",
      "Epoch 37/500\n",
      "250/250 [==============================] - 0s 1ms/step - loss: 0.3358 - accuracy: 0.8600\n",
      "Epoch 38/500\n",
      "250/250 [==============================] - 0s 1ms/step - loss: 0.3358 - accuracy: 0.8605\n",
      "Epoch 39/500\n",
      "250/250 [==============================] - 0s 1ms/step - loss: 0.3363 - accuracy: 0.8591\n",
      "Epoch 40/500\n",
      "250/250 [==============================] - 0s 997us/step - loss: 0.3382 - accuracy: 0.8555\n",
      "Epoch 41/500\n",
      "250/250 [==============================] - 0s 1ms/step - loss: 0.3309 - accuracy: 0.8650\n",
      "Epoch 42/500\n",
      "250/250 [==============================] - 0s 953us/step - loss: 0.3252 - accuracy: 0.8651\n",
      "Epoch 43/500\n",
      "250/250 [==============================] - 0s 1ms/step - loss: 0.3334 - accuracy: 0.8590\n",
      "Epoch 44/500\n",
      "250/250 [==============================] - 0s 980us/step - loss: 0.3303 - accuracy: 0.8631\n",
      "Epoch 45/500\n",
      "250/250 [==============================] - 0s 921us/step - loss: 0.3352 - accuracy: 0.8608\n",
      "Epoch 46/500\n",
      "250/250 [==============================] - 0s 1ms/step - loss: 0.3326 - accuracy: 0.8603\n",
      "Epoch 47/500\n",
      "250/250 [==============================] - 0s 1ms/step - loss: 0.3402 - accuracy: 0.8555\n",
      "Epoch 48/500\n",
      "250/250 [==============================] - 0s 1ms/step - loss: 0.3186 - accuracy: 0.8702\n",
      "Epoch 49/500\n",
      "250/250 [==============================] - 0s 1ms/step - loss: 0.3249 - accuracy: 0.8644\n",
      "Epoch 50/500\n",
      "250/250 [==============================] - 0s 1ms/step - loss: 0.3326 - accuracy: 0.8597\n",
      "Epoch 51/500\n",
      "250/250 [==============================] - 0s 911us/step - loss: 0.3280 - accuracy: 0.8659\n",
      "Epoch 52/500\n",
      "250/250 [==============================] - 0s 899us/step - loss: 0.3213 - accuracy: 0.8670\n",
      "Epoch 53/500\n",
      "250/250 [==============================] - 0s 917us/step - loss: 0.3427 - accuracy: 0.8603\n",
      "Epoch 54/500\n",
      "250/250 [==============================] - 0s 916us/step - loss: 0.3323 - accuracy: 0.8606\n",
      "Epoch 55/500\n",
      "250/250 [==============================] - 0s 876us/step - loss: 0.3276 - accuracy: 0.8641\n",
      "Epoch 56/500\n",
      "250/250 [==============================] - 0s 874us/step - loss: 0.3334 - accuracy: 0.8630\n",
      "Epoch 57/500\n",
      "250/250 [==============================] - 0s 909us/step - loss: 0.3147 - accuracy: 0.8733\n",
      "Epoch 58/500\n",
      "250/250 [==============================] - 0s 971us/step - loss: 0.3347 - accuracy: 0.8615\n",
      "Epoch 59/500\n",
      "250/250 [==============================] - 0s 869us/step - loss: 0.3213 - accuracy: 0.8670\n",
      "Epoch 60/500\n",
      "250/250 [==============================] - 0s 863us/step - loss: 0.3314 - accuracy: 0.8639\n",
      "Epoch 61/500\n",
      "250/250 [==============================] - 0s 849us/step - loss: 0.3259 - accuracy: 0.8627\n",
      "Epoch 62/500\n",
      "250/250 [==============================] - 0s 843us/step - loss: 0.3231 - accuracy: 0.8682\n",
      "Epoch 63/500\n",
      "250/250 [==============================] - 0s 856us/step - loss: 0.3199 - accuracy: 0.8692\n",
      "Epoch 64/500\n",
      "250/250 [==============================] - 0s 857us/step - loss: 0.3238 - accuracy: 0.8629\n",
      "Epoch 65/500\n",
      "250/250 [==============================] - 0s 999us/step - loss: 0.3233 - accuracy: 0.8611\n",
      "Epoch 66/500\n",
      "250/250 [==============================] - 0s 907us/step - loss: 0.3245 - accuracy: 0.8669\n",
      "Epoch 67/500\n",
      "250/250 [==============================] - 0s 1ms/step - loss: 0.3322 - accuracy: 0.8684\n",
      "Epoch 68/500\n",
      "250/250 [==============================] - 0s 1ms/step - loss: 0.3252 - accuracy: 0.8655\n",
      "Epoch 69/500\n",
      "250/250 [==============================] - 0s 908us/step - loss: 0.3209 - accuracy: 0.8698\n",
      "Epoch 70/500\n",
      "250/250 [==============================] - 0s 897us/step - loss: 0.3189 - accuracy: 0.8637\n",
      "Epoch 71/500\n",
      "250/250 [==============================] - 0s 1ms/step - loss: 0.3250 - accuracy: 0.8637\n",
      "Epoch 72/500\n",
      "250/250 [==============================] - 0s 1ms/step - loss: 0.3274 - accuracy: 0.8620\n",
      "Epoch 73/500\n",
      "250/250 [==============================] - 0s 945us/step - loss: 0.3285 - accuracy: 0.8628\n",
      "Epoch 74/500\n",
      "250/250 [==============================] - 0s 1ms/step - loss: 0.3336 - accuracy: 0.8600\n",
      "Epoch 75/500\n",
      "250/250 [==============================] - 0s 984us/step - loss: 0.3344 - accuracy: 0.8586\n",
      "Epoch 76/500\n",
      "250/250 [==============================] - 0s 911us/step - loss: 0.3255 - accuracy: 0.8608\n",
      "Epoch 77/500\n",
      "250/250 [==============================] - 0s 906us/step - loss: 0.3353 - accuracy: 0.8585\n",
      "Epoch 78/500\n",
      "250/250 [==============================] - 0s 917us/step - loss: 0.3252 - accuracy: 0.8692\n",
      "Epoch 79/500\n",
      "250/250 [==============================] - 0s 894us/step - loss: 0.3246 - accuracy: 0.8659\n",
      "Epoch 80/500\n",
      "250/250 [==============================] - 0s 937us/step - loss: 0.3239 - accuracy: 0.8629\n",
      "Epoch 81/500\n",
      "250/250 [==============================] - 0s 890us/step - loss: 0.3206 - accuracy: 0.8673\n",
      "Epoch 82/500\n",
      "250/250 [==============================] - 0s 895us/step - loss: 0.3213 - accuracy: 0.8672\n",
      "Epoch 83/500\n",
      "250/250 [==============================] - 0s 883us/step - loss: 0.3209 - accuracy: 0.8664\n",
      "Epoch 84/500\n",
      "250/250 [==============================] - 0s 935us/step - loss: 0.3263 - accuracy: 0.8682\n",
      "Epoch 85/500\n",
      "250/250 [==============================] - 0s 926us/step - loss: 0.3231 - accuracy: 0.8666\n",
      "Epoch 86/500\n",
      "250/250 [==============================] - 0s 1ms/step - loss: 0.3247 - accuracy: 0.8661\n",
      "Epoch 87/500\n",
      "250/250 [==============================] - 0s 928us/step - loss: 0.3206 - accuracy: 0.8663\n",
      "Epoch 88/500\n",
      "250/250 [==============================] - 0s 1ms/step - loss: 0.3092 - accuracy: 0.8722\n",
      "Epoch 89/500\n",
      "250/250 [==============================] - 0s 1ms/step - loss: 0.3318 - accuracy: 0.8582\n",
      "Epoch 90/500\n",
      "250/250 [==============================] - 0s 1ms/step - loss: 0.3230 - accuracy: 0.8690\n",
      "Epoch 91/500\n",
      "250/250 [==============================] - 0s 960us/step - loss: 0.3316 - accuracy: 0.8603\n",
      "Epoch 92/500\n",
      "250/250 [==============================] - 0s 1ms/step - loss: 0.3239 - accuracy: 0.8647\n",
      "Epoch 93/500\n",
      "250/250 [==============================] - 0s 1ms/step - loss: 0.3241 - accuracy: 0.8661\n",
      "Epoch 94/500\n",
      "250/250 [==============================] - 0s 1ms/step - loss: 0.3103 - accuracy: 0.8703\n",
      "Epoch 95/500\n",
      "250/250 [==============================] - 0s 1ms/step - loss: 0.3189 - accuracy: 0.8652\n",
      "Epoch 96/500\n",
      "250/250 [==============================] - 0s 973us/step - loss: 0.3284 - accuracy: 0.8609\n",
      "Epoch 97/500\n",
      "250/250 [==============================] - 0s 1ms/step - loss: 0.3281 - accuracy: 0.8612\n",
      "Epoch 98/500\n",
      "250/250 [==============================] - 0s 910us/step - loss: 0.3342 - accuracy: 0.8560\n",
      "Epoch 99/500\n",
      "250/250 [==============================] - 0s 1ms/step - loss: 0.3305 - accuracy: 0.8606\n",
      "Epoch 100/500\n",
      "250/250 [==============================] - 0s 1ms/step - loss: 0.3231 - accuracy: 0.8629\n",
      "Epoch 101/500\n",
      "250/250 [==============================] - 0s 1ms/step - loss: 0.3222 - accuracy: 0.8648\n",
      "Epoch 102/500\n",
      "250/250 [==============================] - 0s 1ms/step - loss: 0.3171 - accuracy: 0.8672\n",
      "Epoch 103/500\n",
      "250/250 [==============================] - 0s 1ms/step - loss: 0.3190 - accuracy: 0.8647: 0s - loss: 0.3169 - accuracy: \n",
      "Epoch 104/500\n",
      "250/250 [==============================] - 0s 1ms/step - loss: 0.3257 - accuracy: 0.8686\n",
      "Epoch 105/500\n",
      "250/250 [==============================] - 0s 907us/step - loss: 0.3037 - accuracy: 0.8768\n",
      "Epoch 106/500\n",
      "250/250 [==============================] - 0s 1ms/step - loss: 0.3211 - accuracy: 0.8617\n",
      "Epoch 107/500\n",
      "250/250 [==============================] - 0s 1ms/step - loss: 0.3349 - accuracy: 0.8580\n",
      "Epoch 108/500\n",
      "250/250 [==============================] - 0s 1ms/step - loss: 0.3319 - accuracy: 0.8619\n",
      "Epoch 109/500\n",
      "250/250 [==============================] - 0s 960us/step - loss: 0.3268 - accuracy: 0.8592\n",
      "Epoch 110/500\n",
      "250/250 [==============================] - 0s 1ms/step - loss: 0.3306 - accuracy: 0.8615\n",
      "Epoch 111/500\n",
      "250/250 [==============================] - 0s 949us/step - loss: 0.3372 - accuracy: 0.8582\n",
      "Epoch 112/500\n",
      "250/250 [==============================] - 0s 987us/step - loss: 0.3263 - accuracy: 0.8629\n",
      "Epoch 113/500\n",
      "250/250 [==============================] - 0s 948us/step - loss: 0.3300 - accuracy: 0.8606\n",
      "Epoch 114/500\n",
      "250/250 [==============================] - 0s 1ms/step - loss: 0.3255 - accuracy: 0.8637\n",
      "Epoch 115/500\n",
      "250/250 [==============================] - 0s 872us/step - loss: 0.3251 - accuracy: 0.8612\n",
      "Epoch 116/500\n",
      "250/250 [==============================] - 0s 948us/step - loss: 0.3292 - accuracy: 0.8592\n",
      "Epoch 117/500\n",
      "250/250 [==============================] - 0s 1ms/step - loss: 0.3136 - accuracy: 0.8698\n",
      "Epoch 118/500\n",
      "250/250 [==============================] - 0s 958us/step - loss: 0.3205 - accuracy: 0.8638\n",
      "Epoch 119/500\n",
      "250/250 [==============================] - 0s 962us/step - loss: 0.3208 - accuracy: 0.8655\n",
      "Epoch 120/500\n",
      "250/250 [==============================] - 0s 988us/step - loss: 0.3196 - accuracy: 0.8651\n",
      "Epoch 121/500\n",
      "250/250 [==============================] - 0s 962us/step - loss: 0.3337 - accuracy: 0.8557\n",
      "Epoch 122/500\n",
      "250/250 [==============================] - 0s 1ms/step - loss: 0.3196 - accuracy: 0.8663\n",
      "Epoch 123/500\n",
      "250/250 [==============================] - 0s 1ms/step - loss: 0.3220 - accuracy: 0.8656\n",
      "Epoch 124/500\n",
      "250/250 [==============================] - 0s 995us/step - loss: 0.3208 - accuracy: 0.8700\n",
      "Epoch 125/500\n",
      "250/250 [==============================] - 0s 1ms/step - loss: 0.3197 - accuracy: 0.8669\n",
      "Epoch 126/500\n",
      "250/250 [==============================] - 0s 1ms/step - loss: 0.3078 - accuracy: 0.8686\n",
      "Epoch 127/500\n",
      "250/250 [==============================] - 0s 1ms/step - loss: 0.3197 - accuracy: 0.8662\n",
      "Epoch 128/500\n",
      "250/250 [==============================] - 0s 1ms/step - loss: 0.3139 - accuracy: 0.8686\n",
      "Epoch 129/500\n",
      "250/250 [==============================] - 0s 952us/step - loss: 0.3110 - accuracy: 0.8708\n",
      "Epoch 130/500\n",
      "250/250 [==============================] - 0s 928us/step - loss: 0.3314 - accuracy: 0.8611\n",
      "Epoch 131/500\n",
      "250/250 [==============================] - 0s 1ms/step - loss: 0.3260 - accuracy: 0.8653\n",
      "Epoch 132/500\n",
      "250/250 [==============================] - 0s 990us/step - loss: 0.3300 - accuracy: 0.8618\n",
      "Epoch 133/500\n",
      "250/250 [==============================] - 0s 963us/step - loss: 0.3214 - accuracy: 0.8600\n",
      "Epoch 134/500\n",
      "250/250 [==============================] - 0s 1ms/step - loss: 0.3232 - accuracy: 0.8648\n",
      "Epoch 135/500\n",
      "250/250 [==============================] - 0s 956us/step - loss: 0.3162 - accuracy: 0.8643\n",
      "Epoch 136/500\n",
      "250/250 [==============================] - 0s 979us/step - loss: 0.3173 - accuracy: 0.8660\n",
      "Epoch 137/500\n",
      "250/250 [==============================] - 0s 1ms/step - loss: 0.3304 - accuracy: 0.8578\n",
      "Epoch 138/500\n",
      "250/250 [==============================] - 0s 1ms/step - loss: 0.3229 - accuracy: 0.8597\n",
      "Epoch 139/500\n",
      "250/250 [==============================] - 0s 1ms/step - loss: 0.3241 - accuracy: 0.8639\n",
      "Epoch 140/500\n",
      "250/250 [==============================] - 0s 1ms/step - loss: 0.3211 - accuracy: 0.8669\n",
      "Epoch 141/500\n",
      "250/250 [==============================] - 0s 1ms/step - loss: 0.3134 - accuracy: 0.8703\n",
      "Epoch 142/500\n",
      "250/250 [==============================] - 0s 1ms/step - loss: 0.3223 - accuracy: 0.8691\n",
      "Epoch 143/500\n",
      "250/250 [==============================] - 0s 1ms/step - loss: 0.3252 - accuracy: 0.8604\n",
      "Epoch 144/500\n",
      "250/250 [==============================] - 0s 1ms/step - loss: 0.3220 - accuracy: 0.8614\n",
      "Epoch 145/500\n",
      "250/250 [==============================] - 0s 949us/step - loss: 0.3253 - accuracy: 0.8655\n",
      "Epoch 146/500\n",
      "250/250 [==============================] - 0s 948us/step - loss: 0.3259 - accuracy: 0.8664\n",
      "Epoch 147/500\n",
      "250/250 [==============================] - 0s 2ms/step - loss: 0.3216 - accuracy: 0.8677\n",
      "Epoch 148/500\n",
      "250/250 [==============================] - 0s 2ms/step - loss: 0.3227 - accuracy: 0.8639\n",
      "Epoch 149/500\n",
      "250/250 [==============================] - 0s 2ms/step - loss: 0.3253 - accuracy: 0.8586\n",
      "Epoch 150/500\n",
      "250/250 [==============================] - 0s 1ms/step - loss: 0.3272 - accuracy: 0.8633\n",
      "Epoch 151/500\n",
      "250/250 [==============================] - 0s 1ms/step - loss: 0.3244 - accuracy: 0.8652\n",
      "Epoch 152/500\n",
      "250/250 [==============================] - 0s 887us/step - loss: 0.3153 - accuracy: 0.8681\n",
      "Epoch 153/500\n",
      "250/250 [==============================] - 0s 863us/step - loss: 0.3281 - accuracy: 0.8618\n",
      "Epoch 154/500\n",
      "250/250 [==============================] - 0s 1ms/step - loss: 0.3165 - accuracy: 0.8728\n",
      "Epoch 155/500\n",
      "250/250 [==============================] - 0s 1000us/step - loss: 0.3089 - accuracy: 0.8766\n",
      "Epoch 156/500\n",
      "250/250 [==============================] - 0s 1ms/step - loss: 0.3195 - accuracy: 0.8647\n",
      "Epoch 157/500\n",
      "250/250 [==============================] - 0s 1ms/step - loss: 0.3250 - accuracy: 0.8662\n",
      "Epoch 158/500\n"
     ]
    },
    {
     "name": "stdout",
     "output_type": "stream",
     "text": [
      "250/250 [==============================] - 0s 1ms/step - loss: 0.3215 - accuracy: 0.8692\n",
      "Epoch 159/500\n",
      "250/250 [==============================] - 0s 979us/step - loss: 0.3083 - accuracy: 0.8733\n",
      "Epoch 160/500\n",
      "250/250 [==============================] - 0s 1ms/step - loss: 0.3243 - accuracy: 0.8626\n",
      "Epoch 161/500\n",
      "250/250 [==============================] - 0s 928us/step - loss: 0.3141 - accuracy: 0.8676\n",
      "Epoch 162/500\n",
      "250/250 [==============================] - 0s 834us/step - loss: 0.3231 - accuracy: 0.8643\n",
      "Epoch 163/500\n",
      "250/250 [==============================] - 0s 919us/step - loss: 0.3147 - accuracy: 0.8752\n",
      "Epoch 164/500\n",
      "250/250 [==============================] - 0s 949us/step - loss: 0.3265 - accuracy: 0.8641\n",
      "Epoch 165/500\n",
      "250/250 [==============================] - 0s 954us/step - loss: 0.3235 - accuracy: 0.8634\n",
      "Epoch 166/500\n",
      "250/250 [==============================] - 0s 908us/step - loss: 0.3147 - accuracy: 0.8659\n",
      "Epoch 167/500\n",
      "250/250 [==============================] - 0s 960us/step - loss: 0.3273 - accuracy: 0.8629\n",
      "Epoch 168/500\n",
      "250/250 [==============================] - 0s 962us/step - loss: 0.3177 - accuracy: 0.8671\n",
      "Epoch 169/500\n",
      "250/250 [==============================] - 0s 961us/step - loss: 0.3171 - accuracy: 0.8673\n",
      "Epoch 170/500\n",
      "250/250 [==============================] - 0s 949us/step - loss: 0.3036 - accuracy: 0.8766\n",
      "Epoch 171/500\n",
      "250/250 [==============================] - 0s 924us/step - loss: 0.3118 - accuracy: 0.8703\n",
      "Epoch 172/500\n",
      "250/250 [==============================] - 0s 1ms/step - loss: 0.3230 - accuracy: 0.8695\n",
      "Epoch 173/500\n",
      "250/250 [==============================] - 0s 1ms/step - loss: 0.3161 - accuracy: 0.8674\n",
      "Epoch 174/500\n",
      "250/250 [==============================] - 0s 1ms/step - loss: 0.3224 - accuracy: 0.8655\n",
      "Epoch 175/500\n",
      "250/250 [==============================] - 0s 1ms/step - loss: 0.3219 - accuracy: 0.8628\n",
      "Epoch 176/500\n",
      "250/250 [==============================] - 0s 1ms/step - loss: 0.3120 - accuracy: 0.8672\n",
      "Epoch 177/500\n",
      "250/250 [==============================] - 0s 1ms/step - loss: 0.3178 - accuracy: 0.8668\n",
      "Epoch 178/500\n",
      "250/250 [==============================] - 0s 1ms/step - loss: 0.3167 - accuracy: 0.8708\n",
      "Epoch 179/500\n",
      "250/250 [==============================] - 0s 991us/step - loss: 0.3253 - accuracy: 0.8662\n",
      "Epoch 180/500\n",
      "250/250 [==============================] - 0s 974us/step - loss: 0.3196 - accuracy: 0.8654\n",
      "Epoch 181/500\n",
      "250/250 [==============================] - 0s 889us/step - loss: 0.3103 - accuracy: 0.8711\n",
      "Epoch 182/500\n",
      "250/250 [==============================] - 0s 1ms/step - loss: 0.3267 - accuracy: 0.8619\n",
      "Epoch 183/500\n",
      "250/250 [==============================] - 0s 1ms/step - loss: 0.3263 - accuracy: 0.8598\n",
      "Epoch 184/500\n",
      "250/250 [==============================] - 0s 1ms/step - loss: 0.3348 - accuracy: 0.8599\n",
      "Epoch 185/500\n",
      "250/250 [==============================] - 0s 1ms/step - loss: 0.3191 - accuracy: 0.8671\n",
      "Epoch 186/500\n",
      "250/250 [==============================] - 0s 946us/step - loss: 0.3115 - accuracy: 0.8705\n",
      "Epoch 187/500\n",
      "250/250 [==============================] - 0s 871us/step - loss: 0.3137 - accuracy: 0.8704\n",
      "Epoch 188/500\n",
      "250/250 [==============================] - 0s 958us/step - loss: 0.3201 - accuracy: 0.8630\n",
      "Epoch 189/500\n",
      "250/250 [==============================] - 0s 986us/step - loss: 0.3129 - accuracy: 0.8652\n",
      "Epoch 190/500\n",
      "250/250 [==============================] - 0s 927us/step - loss: 0.3118 - accuracy: 0.8684\n",
      "Epoch 191/500\n",
      "250/250 [==============================] - 0s 967us/step - loss: 0.3175 - accuracy: 0.8671\n",
      "Epoch 192/500\n",
      "250/250 [==============================] - 0s 1ms/step - loss: 0.3093 - accuracy: 0.8715\n",
      "Epoch 193/500\n",
      "250/250 [==============================] - 0s 1ms/step - loss: 0.3103 - accuracy: 0.8731\n",
      "Epoch 194/500\n",
      "250/250 [==============================] - 0s 966us/step - loss: 0.3061 - accuracy: 0.8721\n",
      "Epoch 195/500\n",
      "250/250 [==============================] - 0s 1ms/step - loss: 0.3118 - accuracy: 0.8728\n",
      "Epoch 196/500\n",
      "250/250 [==============================] - 0s 1ms/step - loss: 0.3166 - accuracy: 0.8701\n",
      "Epoch 197/500\n",
      "250/250 [==============================] - 0s 1ms/step - loss: 0.3093 - accuracy: 0.8720\n",
      "Epoch 198/500\n",
      "250/250 [==============================] - 0s 1ms/step - loss: 0.3201 - accuracy: 0.8679\n",
      "Epoch 199/500\n",
      "250/250 [==============================] - 0s 955us/step - loss: 0.3237 - accuracy: 0.8694\n",
      "Epoch 200/500\n",
      "250/250 [==============================] - 0s 881us/step - loss: 0.3185 - accuracy: 0.8652\n",
      "Epoch 201/500\n",
      "250/250 [==============================] - 0s 996us/step - loss: 0.3071 - accuracy: 0.8704\n",
      "Epoch 202/500\n",
      "250/250 [==============================] - 0s 929us/step - loss: 0.3228 - accuracy: 0.8635\n",
      "Epoch 203/500\n",
      "250/250 [==============================] - 0s 1ms/step - loss: 0.3256 - accuracy: 0.8635\n",
      "Epoch 204/500\n",
      "250/250 [==============================] - 0s 1ms/step - loss: 0.3184 - accuracy: 0.8653\n",
      "Epoch 205/500\n",
      "250/250 [==============================] - 0s 1ms/step - loss: 0.3278 - accuracy: 0.8637\n",
      "Epoch 206/500\n",
      "250/250 [==============================] - 0s 1ms/step - loss: 0.3123 - accuracy: 0.8693\n",
      "Epoch 207/500\n",
      "250/250 [==============================] - 0s 950us/step - loss: 0.3163 - accuracy: 0.8638\n",
      "Epoch 208/500\n",
      "250/250 [==============================] - 0s 927us/step - loss: 0.3231 - accuracy: 0.8673\n",
      "Epoch 209/500\n",
      "250/250 [==============================] - 0s 1ms/step - loss: 0.3149 - accuracy: 0.8655\n",
      "Epoch 210/500\n",
      "250/250 [==============================] - 0s 1ms/step - loss: 0.3131 - accuracy: 0.8706\n",
      "Epoch 211/500\n",
      "250/250 [==============================] - 0s 993us/step - loss: 0.3181 - accuracy: 0.8710\n",
      "Epoch 212/500\n",
      "250/250 [==============================] - 0s 1ms/step - loss: 0.3097 - accuracy: 0.8695\n",
      "Epoch 213/500\n",
      "250/250 [==============================] - 0s 935us/step - loss: 0.3214 - accuracy: 0.8691\n",
      "Epoch 214/500\n",
      "250/250 [==============================] - 0s 955us/step - loss: 0.3227 - accuracy: 0.8597\n",
      "Epoch 215/500\n",
      "250/250 [==============================] - 0s 943us/step - loss: 0.3300 - accuracy: 0.8624\n",
      "Epoch 216/500\n",
      "250/250 [==============================] - 0s 1ms/step - loss: 0.3052 - accuracy: 0.8718\n",
      "Epoch 217/500\n",
      "250/250 [==============================] - 0s 898us/step - loss: 0.3106 - accuracy: 0.8697\n",
      "Epoch 218/500\n",
      "250/250 [==============================] - 0s 876us/step - loss: 0.3110 - accuracy: 0.8679\n",
      "Epoch 219/500\n",
      "250/250 [==============================] - 0s 999us/step - loss: 0.3158 - accuracy: 0.8694\n",
      "Epoch 220/500\n",
      "250/250 [==============================] - 0s 973us/step - loss: 0.3116 - accuracy: 0.8711\n",
      "Epoch 221/500\n",
      "250/250 [==============================] - 0s 1ms/step - loss: 0.3085 - accuracy: 0.8695\n",
      "Epoch 222/500\n",
      "250/250 [==============================] - 0s 1ms/step - loss: 0.3240 - accuracy: 0.8670\n",
      "Epoch 223/500\n",
      "250/250 [==============================] - 0s 1ms/step - loss: 0.3054 - accuracy: 0.8706\n",
      "Epoch 224/500\n",
      "250/250 [==============================] - 0s 929us/step - loss: 0.3176 - accuracy: 0.8688\n",
      "Epoch 225/500\n",
      "250/250 [==============================] - 0s 930us/step - loss: 0.3086 - accuracy: 0.8703\n",
      "Epoch 226/500\n",
      "250/250 [==============================] - 0s 1ms/step - loss: 0.3185 - accuracy: 0.8695\n",
      "Epoch 227/500\n",
      "250/250 [==============================] - 0s 1ms/step - loss: 0.3068 - accuracy: 0.8717\n",
      "Epoch 228/500\n",
      "250/250 [==============================] - 0s 970us/step - loss: 0.3122 - accuracy: 0.8686\n",
      "Epoch 229/500\n",
      "250/250 [==============================] - 0s 974us/step - loss: 0.3136 - accuracy: 0.8661\n",
      "Epoch 230/500\n",
      "250/250 [==============================] - 0s 1ms/step - loss: 0.3227 - accuracy: 0.8655\n",
      "Epoch 231/500\n",
      "250/250 [==============================] - 0s 1ms/step - loss: 0.3174 - accuracy: 0.8682\n",
      "Epoch 232/500\n",
      "250/250 [==============================] - 0s 951us/step - loss: 0.3063 - accuracy: 0.8783\n",
      "Epoch 233/500\n",
      "250/250 [==============================] - 0s 938us/step - loss: 0.3058 - accuracy: 0.8718\n",
      "Epoch 234/500\n",
      "250/250 [==============================] - 0s 1ms/step - loss: 0.3182 - accuracy: 0.8655\n",
      "Epoch 235/500\n",
      "250/250 [==============================] - 0s 1ms/step - loss: 0.3205 - accuracy: 0.8698\n",
      "Epoch 236/500\n",
      "250/250 [==============================] - 0s 952us/step - loss: 0.3253 - accuracy: 0.8633\n",
      "Epoch 237/500\n",
      "250/250 [==============================] - 0s 1ms/step - loss: 0.3074 - accuracy: 0.8666\n",
      "Epoch 238/500\n",
      "250/250 [==============================] - 0s 1ms/step - loss: 0.3126 - accuracy: 0.8712\n",
      "Epoch 239/500\n",
      "250/250 [==============================] - 0s 983us/step - loss: 0.3092 - accuracy: 0.8763\n",
      "Epoch 240/500\n",
      "250/250 [==============================] - 0s 996us/step - loss: 0.3082 - accuracy: 0.8751\n",
      "Epoch 241/500\n",
      "250/250 [==============================] - 0s 981us/step - loss: 0.3147 - accuracy: 0.8683\n",
      "Epoch 242/500\n",
      "250/250 [==============================] - 0s 911us/step - loss: 0.3071 - accuracy: 0.8712\n",
      "Epoch 243/500\n",
      "250/250 [==============================] - 0s 948us/step - loss: 0.3072 - accuracy: 0.8717\n",
      "Epoch 244/500\n",
      "250/250 [==============================] - 0s 1ms/step - loss: 0.3146 - accuracy: 0.8664\n",
      "Epoch 245/500\n",
      "250/250 [==============================] - 0s 1ms/step - loss: 0.3047 - accuracy: 0.8695\n",
      "Epoch 246/500\n",
      "250/250 [==============================] - 0s 967us/step - loss: 0.3250 - accuracy: 0.8624\n",
      "Epoch 247/500\n",
      "250/250 [==============================] - 0s 1ms/step - loss: 0.3152 - accuracy: 0.8652\n",
      "Epoch 248/500\n",
      "250/250 [==============================] - 0s 1ms/step - loss: 0.3178 - accuracy: 0.8664\n",
      "Epoch 249/500\n",
      "250/250 [==============================] - 0s 950us/step - loss: 0.3229 - accuracy: 0.8651\n",
      "Epoch 250/500\n",
      "250/250 [==============================] - 0s 1ms/step - loss: 0.3141 - accuracy: 0.8732\n",
      "Epoch 251/500\n",
      "250/250 [==============================] - 0s 1ms/step - loss: 0.3057 - accuracy: 0.8725\n",
      "Epoch 252/500\n",
      "250/250 [==============================] - 0s 1ms/step - loss: 0.3119 - accuracy: 0.8663\n",
      "Epoch 253/500\n",
      "250/250 [==============================] - 0s 1ms/step - loss: 0.3160 - accuracy: 0.8679\n",
      "Epoch 254/500\n",
      "250/250 [==============================] - 0s 1ms/step - loss: 0.3214 - accuracy: 0.8625\n",
      "Epoch 255/500\n",
      "250/250 [==============================] - 0s 1ms/step - loss: 0.3142 - accuracy: 0.8689\n",
      "Epoch 256/500\n",
      "250/250 [==============================] - 0s 1ms/step - loss: 0.3192 - accuracy: 0.8648\n",
      "Epoch 257/500\n",
      "250/250 [==============================] - 0s 1ms/step - loss: 0.3062 - accuracy: 0.8757\n",
      "Epoch 258/500\n",
      "250/250 [==============================] - 0s 1ms/step - loss: 0.3221 - accuracy: 0.8621\n",
      "Epoch 259/500\n",
      "250/250 [==============================] - 0s 1ms/step - loss: 0.3089 - accuracy: 0.8727\n",
      "Epoch 260/500\n",
      "250/250 [==============================] - 0s 1ms/step - loss: 0.3179 - accuracy: 0.8650\n",
      "Epoch 261/500\n",
      "250/250 [==============================] - 0s 960us/step - loss: 0.3108 - accuracy: 0.8730\n",
      "Epoch 262/500\n",
      "250/250 [==============================] - 0s 1ms/step - loss: 0.3229 - accuracy: 0.8629\n",
      "Epoch 263/500\n",
      "250/250 [==============================] - 0s 948us/step - loss: 0.3108 - accuracy: 0.8696\n",
      "Epoch 264/500\n",
      "250/250 [==============================] - 0s 974us/step - loss: 0.3064 - accuracy: 0.8733\n",
      "Epoch 265/500\n",
      "250/250 [==============================] - 0s 1ms/step - loss: 0.3148 - accuracy: 0.8716\n",
      "Epoch 266/500\n",
      "250/250 [==============================] - 0s 956us/step - loss: 0.3235 - accuracy: 0.8606\n",
      "Epoch 267/500\n",
      "250/250 [==============================] - 0s 1ms/step - loss: 0.3255 - accuracy: 0.8607\n",
      "Epoch 268/500\n",
      "250/250 [==============================] - 0s 1ms/step - loss: 0.3121 - accuracy: 0.8663\n",
      "Epoch 269/500\n",
      "250/250 [==============================] - 0s 1ms/step - loss: 0.3117 - accuracy: 0.8680\n",
      "Epoch 270/500\n",
      "250/250 [==============================] - 0s 1ms/step - loss: 0.3122 - accuracy: 0.8667\n",
      "Epoch 271/500\n",
      "250/250 [==============================] - 0s 975us/step - loss: 0.3149 - accuracy: 0.8652\n",
      "Epoch 272/500\n",
      "250/250 [==============================] - 0s 1ms/step - loss: 0.3243 - accuracy: 0.8629\n",
      "Epoch 273/500\n",
      "250/250 [==============================] - 0s 1ms/step - loss: 0.3203 - accuracy: 0.8626\n",
      "Epoch 274/500\n",
      "250/250 [==============================] - 0s 1ms/step - loss: 0.3208 - accuracy: 0.8657\n",
      "Epoch 275/500\n",
      "250/250 [==============================] - 0s 987us/step - loss: 0.3184 - accuracy: 0.8657\n",
      "Epoch 276/500\n",
      "250/250 [==============================] - 0s 1ms/step - loss: 0.3193 - accuracy: 0.8629\n",
      "Epoch 277/500\n",
      "250/250 [==============================] - 0s 1ms/step - loss: 0.3099 - accuracy: 0.8721\n",
      "Epoch 278/500\n",
      "250/250 [==============================] - 0s 1ms/step - loss: 0.3202 - accuracy: 0.8641\n",
      "Epoch 279/500\n",
      "250/250 [==============================] - 0s 985us/step - loss: 0.3078 - accuracy: 0.8697\n",
      "Epoch 280/500\n",
      "250/250 [==============================] - 0s 998us/step - loss: 0.3123 - accuracy: 0.8696\n",
      "Epoch 281/500\n",
      "250/250 [==============================] - 0s 1ms/step - loss: 0.3164 - accuracy: 0.8696\n",
      "Epoch 282/500\n",
      "250/250 [==============================] - 0s 903us/step - loss: 0.3148 - accuracy: 0.8675\n",
      "Epoch 283/500\n",
      "250/250 [==============================] - 0s 1ms/step - loss: 0.3131 - accuracy: 0.8658\n",
      "Epoch 284/500\n",
      "250/250 [==============================] - 0s 1ms/step - loss: 0.3100 - accuracy: 0.8705\n",
      "Epoch 285/500\n",
      "250/250 [==============================] - 0s 1ms/step - loss: 0.3137 - accuracy: 0.8704\n",
      "Epoch 286/500\n",
      "250/250 [==============================] - 0s 1ms/step - loss: 0.3108 - accuracy: 0.8680\n",
      "Epoch 287/500\n",
      "250/250 [==============================] - 0s 1ms/step - loss: 0.3055 - accuracy: 0.8756\n",
      "Epoch 288/500\n",
      "250/250 [==============================] - 0s 965us/step - loss: 0.3095 - accuracy: 0.8689\n",
      "Epoch 289/500\n",
      "250/250 [==============================] - 0s 1ms/step - loss: 0.3080 - accuracy: 0.8713\n",
      "Epoch 290/500\n",
      "250/250 [==============================] - 0s 1ms/step - loss: 0.3187 - accuracy: 0.8649\n",
      "Epoch 291/500\n",
      "250/250 [==============================] - 0s 1ms/step - loss: 0.3142 - accuracy: 0.8695\n",
      "Epoch 292/500\n",
      "250/250 [==============================] - 0s 1ms/step - loss: 0.3189 - accuracy: 0.8690\n",
      "Epoch 293/500\n",
      "250/250 [==============================] - 0s 1ms/step - loss: 0.3173 - accuracy: 0.8605\n",
      "Epoch 294/500\n",
      "250/250 [==============================] - 0s 1ms/step - loss: 0.3160 - accuracy: 0.8681\n",
      "Epoch 295/500\n",
      "250/250 [==============================] - 0s 902us/step - loss: 0.3122 - accuracy: 0.8669\n",
      "Epoch 296/500\n",
      "250/250 [==============================] - 0s 975us/step - loss: 0.3149 - accuracy: 0.8702\n",
      "Epoch 297/500\n",
      "250/250 [==============================] - 0s 1ms/step - loss: 0.3143 - accuracy: 0.8711\n",
      "Epoch 298/500\n",
      "250/250 [==============================] - 0s 1ms/step - loss: 0.3103 - accuracy: 0.8656\n",
      "Epoch 299/500\n",
      "250/250 [==============================] - 0s 955us/step - loss: 0.3148 - accuracy: 0.8685\n",
      "Epoch 300/500\n",
      "250/250 [==============================] - 0s 1ms/step - loss: 0.3107 - accuracy: 0.8705\n",
      "Epoch 301/500\n",
      "250/250 [==============================] - 0s 1ms/step - loss: 0.3130 - accuracy: 0.8654\n",
      "Epoch 302/500\n",
      "250/250 [==============================] - 0s 1ms/step - loss: 0.3062 - accuracy: 0.8728\n",
      "Epoch 303/500\n",
      "250/250 [==============================] - 0s 1ms/step - loss: 0.3181 - accuracy: 0.8671\n",
      "Epoch 304/500\n",
      "250/250 [==============================] - 0s 1ms/step - loss: 0.3076 - accuracy: 0.8673\n",
      "Epoch 305/500\n",
      "250/250 [==============================] - 0s 1ms/step - loss: 0.3141 - accuracy: 0.8703\n",
      "Epoch 306/500\n",
      "250/250 [==============================] - 0s 1ms/step - loss: 0.3214 - accuracy: 0.8644\n",
      "Epoch 307/500\n",
      "250/250 [==============================] - 0s 1ms/step - loss: 0.3212 - accuracy: 0.8642\n",
      "Epoch 308/500\n",
      "250/250 [==============================] - 0s 1ms/step - loss: 0.3153 - accuracy: 0.8682\n",
      "Epoch 309/500\n",
      "250/250 [==============================] - 0s 1ms/step - loss: 0.2980 - accuracy: 0.8778\n",
      "Epoch 310/500\n",
      "250/250 [==============================] - 0s 1ms/step - loss: 0.3174 - accuracy: 0.8644\n",
      "Epoch 311/500\n",
      "250/250 [==============================] - 0s 1ms/step - loss: 0.3240 - accuracy: 0.8612\n",
      "Epoch 312/500\n",
      "250/250 [==============================] - 0s 957us/step - loss: 0.3154 - accuracy: 0.8684\n",
      "Epoch 313/500\n",
      "250/250 [==============================] - 0s 1ms/step - loss: 0.3210 - accuracy: 0.8606\n",
      "Epoch 314/500\n",
      "250/250 [==============================] - 0s 984us/step - loss: 0.3244 - accuracy: 0.8602\n",
      "Epoch 315/500\n"
     ]
    },
    {
     "name": "stdout",
     "output_type": "stream",
     "text": [
      "250/250 [==============================] - 0s 1ms/step - loss: 0.3017 - accuracy: 0.8705\n",
      "Epoch 316/500\n",
      "250/250 [==============================] - 0s 1ms/step - loss: 0.3092 - accuracy: 0.8697\n",
      "Epoch 317/500\n",
      "250/250 [==============================] - 0s 942us/step - loss: 0.3065 - accuracy: 0.8703\n",
      "Epoch 318/500\n",
      "250/250 [==============================] - 0s 1ms/step - loss: 0.3119 - accuracy: 0.8687\n",
      "Epoch 319/500\n",
      "250/250 [==============================] - 0s 1ms/step - loss: 0.3080 - accuracy: 0.8715\n",
      "Epoch 320/500\n",
      "250/250 [==============================] - 0s 1ms/step - loss: 0.3150 - accuracy: 0.8662\n",
      "Epoch 321/500\n",
      "250/250 [==============================] - 0s 1ms/step - loss: 0.3152 - accuracy: 0.8669\n",
      "Epoch 322/500\n",
      "250/250 [==============================] - 0s 952us/step - loss: 0.3111 - accuracy: 0.8704\n",
      "Epoch 323/500\n",
      "250/250 [==============================] - 0s 891us/step - loss: 0.3070 - accuracy: 0.8745\n",
      "Epoch 324/500\n",
      "250/250 [==============================] - 0s 1ms/step - loss: 0.3136 - accuracy: 0.8723\n",
      "Epoch 325/500\n",
      "250/250 [==============================] - 0s 1ms/step - loss: 0.3038 - accuracy: 0.8707\n",
      "Epoch 326/500\n",
      "250/250 [==============================] - 0s 1ms/step - loss: 0.3116 - accuracy: 0.8669\n",
      "Epoch 327/500\n",
      "250/250 [==============================] - 0s 1ms/step - loss: 0.3088 - accuracy: 0.8723\n",
      "Epoch 328/500\n",
      "250/250 [==============================] - 0s 985us/step - loss: 0.2997 - accuracy: 0.8737\n",
      "Epoch 329/500\n",
      "250/250 [==============================] - 0s 896us/step - loss: 0.3049 - accuracy: 0.8717\n",
      "Epoch 330/500\n",
      "250/250 [==============================] - 0s 892us/step - loss: 0.3097 - accuracy: 0.8731\n",
      "Epoch 331/500\n",
      "250/250 [==============================] - 0s 1ms/step - loss: 0.3190 - accuracy: 0.8619\n",
      "Epoch 332/500\n",
      "250/250 [==============================] - 0s 1ms/step - loss: 0.3100 - accuracy: 0.8695\n",
      "Epoch 333/500\n",
      "250/250 [==============================] - 0s 1ms/step - loss: 0.3071 - accuracy: 0.8725\n",
      "Epoch 334/500\n",
      "250/250 [==============================] - 0s 1ms/step - loss: 0.3129 - accuracy: 0.8675\n",
      "Epoch 335/500\n",
      "250/250 [==============================] - 0s 983us/step - loss: 0.3135 - accuracy: 0.8688\n",
      "Epoch 336/500\n",
      "250/250 [==============================] - 0s 832us/step - loss: 0.3081 - accuracy: 0.8705\n",
      "Epoch 337/500\n",
      "250/250 [==============================] - 0s 820us/step - loss: 0.3077 - accuracy: 0.8688\n",
      "Epoch 338/500\n",
      "250/250 [==============================] - 0s 967us/step - loss: 0.3195 - accuracy: 0.8659\n",
      "Epoch 339/500\n",
      "250/250 [==============================] - 0s 958us/step - loss: 0.3130 - accuracy: 0.8655\n",
      "Epoch 340/500\n",
      "250/250 [==============================] - 0s 919us/step - loss: 0.3079 - accuracy: 0.8668\n",
      "Epoch 341/500\n",
      "250/250 [==============================] - 0s 918us/step - loss: 0.3112 - accuracy: 0.8726\n",
      "Epoch 342/500\n",
      "250/250 [==============================] - 0s 971us/step - loss: 0.3161 - accuracy: 0.8668\n",
      "Epoch 343/500\n",
      "250/250 [==============================] - 0s 928us/step - loss: 0.3065 - accuracy: 0.8750\n",
      "Epoch 344/500\n",
      "250/250 [==============================] - 0s 878us/step - loss: 0.3021 - accuracy: 0.8776\n",
      "Epoch 345/500\n",
      "250/250 [==============================] - 0s 882us/step - loss: 0.3172 - accuracy: 0.8630\n",
      "Epoch 346/500\n",
      "250/250 [==============================] - 0s 870us/step - loss: 0.3149 - accuracy: 0.8630\n",
      "Epoch 347/500\n",
      "250/250 [==============================] - 0s 876us/step - loss: 0.3124 - accuracy: 0.8673\n",
      "Epoch 348/500\n",
      "250/250 [==============================] - 0s 959us/step - loss: 0.3165 - accuracy: 0.8665\n",
      "Epoch 349/500\n",
      "250/250 [==============================] - 0s 931us/step - loss: 0.3078 - accuracy: 0.8711\n",
      "Epoch 350/500\n",
      "250/250 [==============================] - 0s 945us/step - loss: 0.2981 - accuracy: 0.8728\n",
      "Epoch 351/500\n",
      "250/250 [==============================] - 0s 918us/step - loss: 0.3090 - accuracy: 0.8707\n",
      "Epoch 352/500\n",
      "250/250 [==============================] - 0s 1ms/step - loss: 0.3098 - accuracy: 0.8709\n",
      "Epoch 353/500\n",
      "250/250 [==============================] - 0s 1ms/step - loss: 0.3099 - accuracy: 0.8723\n",
      "Epoch 354/500\n",
      "250/250 [==============================] - 0s 1ms/step - loss: 0.3071 - accuracy: 0.8730\n",
      "Epoch 355/500\n",
      "250/250 [==============================] - 0s 1ms/step - loss: 0.3122 - accuracy: 0.8657\n",
      "Epoch 356/500\n",
      "250/250 [==============================] - 0s 1ms/step - loss: 0.3124 - accuracy: 0.8653\n",
      "Epoch 357/500\n",
      "250/250 [==============================] - 0s 1ms/step - loss: 0.3018 - accuracy: 0.8734\n",
      "Epoch 358/500\n",
      "250/250 [==============================] - 0s 1ms/step - loss: 0.3118 - accuracy: 0.8683\n",
      "Epoch 359/500\n",
      "250/250 [==============================] - 0s 1ms/step - loss: 0.3046 - accuracy: 0.8757\n",
      "Epoch 360/500\n",
      "250/250 [==============================] - 0s 836us/step - loss: 0.3068 - accuracy: 0.8728\n",
      "Epoch 361/500\n",
      "250/250 [==============================] - 0s 980us/step - loss: 0.3103 - accuracy: 0.8695\n",
      "Epoch 362/500\n",
      "250/250 [==============================] - 0s 977us/step - loss: 0.3206 - accuracy: 0.8642\n",
      "Epoch 363/500\n",
      "145/250 [================>.............] - ETA: 0s - loss: 0.3027 - accuracy: 0.8729"
     ]
    }
   ],
   "source": [
    "model.fit(X_train, y_train.to_numpy(), batch_size = 32, epochs = 500, verbose = 1)"
   ]
  },
  {
   "cell_type": "code",
   "execution_count": 201,
   "metadata": {},
   "outputs": [],
   "source": [
    "y_pred = model.predict_classes(X_test)\n",
    "y_pred = (y_pred > 0.5)"
   ]
  },
  {
   "cell_type": "code",
   "execution_count": 202,
   "metadata": {},
   "outputs": [
    {
     "name": "stdout",
     "output_type": "stream",
     "text": [
      "0.855\n"
     ]
    }
   ],
   "source": [
    "print(accuracy_score(y_test, y_pred))"
   ]
  },
  {
   "cell_type": "code",
   "execution_count": 203,
   "metadata": {},
   "outputs": [
    {
     "data": {
      "text/plain": [
       "<AxesSubplot:>"
      ]
     },
     "execution_count": 203,
     "metadata": {},
     "output_type": "execute_result"
    },
    {
     "data": {
      "image/png": "[encoded data removed]",
      "text/plain": [
       "<Figure size 504x360 with 2 Axes>"
      ]
     },
     "metadata": {
      "needs_background": "light"
     },
     "output_type": "display_data"
    }
   ],
   "source": [
    "cm = confusion_matrix(y_test, y_pred, labels=[1,0])\n",
    "df_cm = pd.DataFrame(cm, index = [i for i in [\"1\",\"0\"]],columns = [i for i in [\"Predict 1\",\"Predict 0\"]])\n",
    "plt.figure(figsize = (7,5))\n",
    "sns.heatmap(df_cm, annot=True)"
   ]
  },
  {
   "cell_type": "markdown",
   "metadata": {},
   "source": [
    "After improvement the accuracy of the model has been increased to 85%."
   ]
  },
  {
   "cell_type": "code",
   "execution_count": null,
   "metadata": {},
   "outputs": [],
   "source": []
  }
 ],
 "metadata": {
  "kernelspec": {
   "display_name": "PyCharm (machinelearning_course)",
   "language": "python",
   "name": "pycharm-1a1eee34"
  },
  "language_info": {
   "codemirror_mode": {
    "name": "ipython",
    "version": 3
   },
   "file_extension": ".py",
   "mimetype": "text/x-python",
   "name": "python",
   "nbconvert_exporter": "python",
   "pygments_lexer": "ipython3",
   "version": "3.8.8"
  }
 },
 "nbformat": 4,
 "nbformat_minor": 1
}